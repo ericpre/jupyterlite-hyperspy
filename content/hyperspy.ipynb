{
  "metadata": {
    "kernelspec": {
      "name": "python",
      "display_name": "Python (Pyodide)",
      "language": "python"
    },
    "language_info": {
      "codemirror_mode": {
        "name": "python",
        "version": 3
      },
      "file_extension": ".py",
      "mimetype": "text/x-python",
      "name": "python",
      "nbconvert_exporter": "python",
      "pygments_lexer": "ipython3",
      "version": "3.8"
    }
  },
  "nbformat_minor": 4,
  "nbformat": 4,
  "cells": [
    {
      "cell_type": "markdown",
      "source": "## Install matplotlib",
      "metadata": {}
    },
    {
      "cell_type": "code",
      "source": "%pip install -q ipympl",
      "metadata": {
        "trusted": true
      },
      "execution_count": 11,
      "outputs": []
    },
    {
      "cell_type": "code",
      "source": "%matplotlib widget",
      "metadata": {
        "trusted": true
      },
      "execution_count": 12,
      "outputs": []
    },
    {
      "cell_type": "markdown",
      "source": "## Install RosettaSciIO and HyperSpy",
      "metadata": {}
    },
    {
      "cell_type": "code",
      "source": "import os\nwheels = [fname for fname in os.listdir() if \".whl\" in fname]\nwheels",
      "metadata": {
        "trusted": true
      },
      "execution_count": 13,
      "outputs": [
        {
          "execution_count": 13,
          "output_type": "execute_result",
          "data": {
            "text/plain": "['hyperspy-2.0.dev0-py3-none-any.whl',\n 'rosettasciio-0.2.dev138+g6d1f1b85-py3-none-any.whl']"
          },
          "metadata": {}
        }
      ]
    },
    {
      "cell_type": "code",
      "source": "# install rosettasciio first\nwheel = wheels[1]\nimport micropip\nawait micropip.install(f\"emfs:{wheel}\")",
      "metadata": {
        "trusted": true
      },
      "execution_count": 14,
      "outputs": []
    },
    {
      "cell_type": "code",
      "source": "# install hyperspy\nwheel = wheels[0]\nimport micropip\nawait micropip.install(f\"emfs:{wheel}\")",
      "metadata": {
        "trusted": true
      },
      "execution_count": 15,
      "outputs": []
    },
    {
      "cell_type": "markdown",
      "source": "## Try hyperspy",
      "metadata": {}
    },
    {
      "cell_type": "code",
      "source": "import rsciio",
      "metadata": {
        "trusted": true
      },
      "execution_count": 16,
      "outputs": []
    },
    {
      "cell_type": "code",
      "source": "rsciio.__version__",
      "metadata": {
        "trusted": true
      },
      "execution_count": 17,
      "outputs": [
        {
          "execution_count": 17,
          "output_type": "execute_result",
          "data": {
            "text/plain": "'0.2.dev138+g6d1f1b85'"
          },
          "metadata": {}
        }
      ]
    },
    {
      "cell_type": "code",
      "source": "import hyperspy.api as hs",
      "metadata": {
        "trusted": true
      },
      "execution_count": 18,
      "outputs": []
    },
    {
      "cell_type": "code",
      "source": "dir(hs.datasets)",
      "metadata": {
        "trusted": true
      },
      "execution_count": 19,
      "outputs": [
        {
          "execution_count": 19,
          "output_type": "execute_result",
          "data": {
            "text/plain": "['artificial_data', 'two_gaussians']"
          },
          "metadata": {}
        }
      ]
    },
    {
      "cell_type": "code",
      "source": "s = hs.datasets.two_gaussians()",
      "metadata": {
        "trusted": true
      },
      "execution_count": 25,
      "outputs": []
    },
    {
      "cell_type": "code",
      "source": "s.plot()",
      "metadata": {
        "trusted": true
      },
      "execution_count": 26,
      "outputs": [
        {
          "output_type": "display_data",
          "data": {
            "text/plain": "HBox(children=(Canvas(toolbar=Toolbar(toolitems=[('Home', 'Reset original view', 'home', 'home'), ('Back', 'Ba…",
            "application/vnd.jupyter.widget-view+json": {
              "version_major": 2,
              "version_minor": 0,
              "model_id": "9f71ba0966ee4461b260bfa220a18b3e"
            }
          },
          "metadata": {}
        }
      ]
    },
    {
      "cell_type": "code",
      "source": "s",
      "metadata": {
        "trusted": true
      },
      "execution_count": 27,
      "outputs": [
        {
          "execution_count": 27,
          "output_type": "execute_result",
          "data": {
            "text/plain": "<Signal1D, title: Two Gaussians, dimensions: (32, 32|1024)>"
          },
          "metadata": {}
        }
      ]
    },
    {
      "cell_type": "code",
      "source": "m = s.create_model()",
      "metadata": {
        "trusted": true
      },
      "execution_count": 43,
      "outputs": []
    },
    {
      "cell_type": "code",
      "source": "g1 = hs.model.components1D.GaussianHF()\ng2 = hs.model.components1D.GaussianHF()",
      "metadata": {
        "trusted": true
      },
      "execution_count": 44,
      "outputs": []
    },
    {
      "cell_type": "code",
      "source": "g1.name = \"wide\"\ng2.name = \"narrow\"",
      "metadata": {
        "trusted": true
      },
      "execution_count": 45,
      "outputs": []
    },
    {
      "cell_type": "code",
      "source": "m.extend([g1, g2])",
      "metadata": {
        "trusted": true
      },
      "execution_count": 46,
      "outputs": []
    },
    {
      "cell_type": "code",
      "source": "m.components",
      "metadata": {
        "trusted": true
      },
      "execution_count": 47,
      "outputs": [
        {
          "execution_count": 47,
          "output_type": "execute_result",
          "data": {
            "text/plain": "   # |      Attribute Name |      Component Name |      Component Type\n---- | ------------------- | ------------------- | -------------------\n   0 |                wide |                wide |          GaussianHF\n   1 |              narrow |              narrow |          GaussianHF"
          },
          "metadata": {}
        }
      ]
    },
    {
      "cell_type": "code",
      "source": "m.print_current_values()",
      "metadata": {
        "trusted": true
      },
      "execution_count": 48,
      "outputs": [
        {
          "output_type": "display_data",
          "data": {
            "text/plain": "Model1D: Two Gaussians\nCurrentComponentValues: wide\nActive: True\nParameter Name |    Free |      Value |        Std |        Min |        Max | Linear\n============== | ======= | ========== | ========== | ========== | ========== | ======\n        centre |    True |        0.0 |       None |       None |       None |  False\n          fwhm |    True |        1.0 |       None |        0.0 |       None |  False\n        height |    True |        1.0 |       None |        0.0 |       None |   True\n\nCurrentComponentValues: narrow\nActive: True\nParameter Name |    Free |      Value |        Std |        Min |        Max | Linear\n============== | ======= | ========== | ========== | ========== | ========== | ======\n        centre |    True |        0.0 |       None |       None |       None |  False\n          fwhm |    True |        1.0 |       None |        0.0 |       None |  False\n        height |    True |        1.0 |       None |        0.0 |       None |   True\n",
            "text/html": "<h4>Model1D: Two Gaussians</h4><p><b>CurrentComponentValues: wide</b><br />Active: True</p><table style=\"width:100%\"><tr><th>Parameter Name</th><th>Free</th>\n            <th>Value</th><th>Std</th><th>Min</th><th>Max</th><th>Linear</th></tr><tr><td>centre</td><td>True</td><td>     0</td>\n                    <td></td><td></td><td></td><td>False</td></tr><tr><td>fwhm</td><td>True</td><td>     1</td>\n                    <td></td><td>     0</td><td></td><td>False</td></tr><tr><td>height</td><td>True</td><td>     1</td>\n                    <td></td><td>     0</td><td></td><td>True</td></tr></table><p><b>CurrentComponentValues: narrow</b><br />Active: True</p><table style=\"width:100%\"><tr><th>Parameter Name</th><th>Free</th>\n            <th>Value</th><th>Std</th><th>Min</th><th>Max</th><th>Linear</th></tr><tr><td>centre</td><td>True</td><td>     0</td>\n                    <td></td><td></td><td></td><td>False</td></tr><tr><td>fwhm</td><td>True</td><td>     1</td>\n                    <td></td><td>     0</td><td></td><td>False</td></tr><tr><td>height</td><td>True</td><td>     1</td>\n                    <td></td><td>     0</td><td></td><td>True</td></tr></table>"
          },
          "metadata": {}
        }
      ]
    },
    {
      "cell_type": "code",
      "source": "m.axes_manager.indices = (0, 0)",
      "metadata": {
        "trusted": true
      },
      "execution_count": 49,
      "outputs": []
    },
    {
      "cell_type": "code",
      "source": "m.components.narrow.centre.value = 60\nm.components.wide.centre.value = 50",
      "metadata": {
        "trusted": true
      },
      "execution_count": 50,
      "outputs": []
    },
    {
      "cell_type": "code",
      "source": "m.fit()",
      "metadata": {
        "trusted": true
      },
      "execution_count": 51,
      "outputs": [
        {
          "execution_count": 51,
          "output_type": "execute_result",
          "data": {
            "text/plain": " message: Both actual and predicted relative reductions in the sum of squares\n            are at most 0.000000\n success: True\n  status: 1\n     fun: [-9.758e-01  1.219e+01 ...  3.176e+00  5.110e-02]\n       x: [ 4.875e+01  5.986e+01  1.385e+02  6.018e+01  5.709e+00\n            5.533e+01]\n   covar: [[ 1.811e-04 -5.109e-05 ... -7.607e-05 -4.031e-04]\n           [-5.109e-05  1.101e-03 ...  1.292e-04  7.203e-04]\n           ...\n           [-7.607e-05  1.292e-04 ...  5.869e-04 -1.929e-03]\n           [-4.031e-04  7.203e-04 ... -1.929e-03  3.735e-02]]\n    nfev: 139"
          },
          "metadata": {}
        }
      ]
    },
    {
      "cell_type": "code",
      "source": "m.plot()",
      "metadata": {
        "trusted": true
      },
      "execution_count": 52,
      "outputs": [
        {
          "output_type": "display_data",
          "data": {
            "text/plain": "HBox(children=(Canvas(toolbar=Toolbar(toolitems=[('Home', 'Reset original view', 'home', 'home'), ('Back', 'Ba…",
            "application/vnd.jupyter.widget-view+json": {
              "version_major": 2,
              "version_minor": 0,
              "model_id": "53b988d168254d01be32c8ff80b4c596"
            }
          },
          "metadata": {}
        }
      ]
    },
    {
      "cell_type": "code",
      "source": "m.multifit()",
      "metadata": {
        "trusted": true
      },
      "execution_count": 40,
      "outputs": [
        {
          "name": "stderr",
          "text": "Exception ignored in: <function tqdm.__del__ at 0x9899590>\nTraceback (most recent call last):\n  File \"/lib/python3.11/site-packages/tqdm/std.py\", line 1149, in __del__\n    self.close()\n  File \"/lib/python3.11/site-packages/tqdm/notebook.py\", line 278, in close\n    self.disp(bar_style='danger', check_delay=False)\n    ^^^^^^^^^\nAttributeError: 'tqdm_notebook' object has no attribute 'disp'\n/lib/python3.11/site-packages/hyperspy/external/progressbar.py:45: TqdmMonitorWarning: tqdm:disabling monitor support (monitor_interval = 0) due to:\ncan't start new thread\n  return tqdm(*args, **kwargs)\n 12%|█▏        | 124/1024 [00:03<00:27, 32.71it/s]",
          "output_type": "stream"
        },
        {
          "name": "stdout",
          "text": "\u001b[33;20mWARNING | Hyperspy | Covariance of the parameters could not be estimated. Estimated parameter standard deviations will be np.nan. (hyperspy.model:1283)\u001b[0m\n\u001b[33;20mWARNING | Hyperspy | `m.fit()` did not exit successfully. Reason: Number of calls to function has reached maxfev = 1400. (hyperspy.model:1737)\u001b[0m\n",
          "output_type": "stream"
        },
        {
          "name": "stderr",
          "text": " 56%|█████▌    | 574/1024 [00:14<00:11, 38.12it/s]",
          "output_type": "stream"
        },
        {
          "name": "stdout",
          "text": "\u001b[33;20mWARNING | Hyperspy | Covariance of the parameters could not be estimated. Estimated parameter standard deviations will be np.nan. (hyperspy.model:1283)\u001b[0m\n\u001b[33;20mWARNING | Hyperspy | `m.fit()` did not exit successfully. Reason: Number of calls to function has reached maxfev = 1400. (hyperspy.model:1737)\u001b[0m\n",
          "output_type": "stream"
        },
        {
          "name": "stderr",
          "text": " 72%|███████▏  | 735/1024 [00:18<00:04, 59.53it/s]",
          "output_type": "stream"
        },
        {
          "name": "stdout",
          "text": "\u001b[33;20mWARNING | Hyperspy | Covariance of the parameters could not be estimated. Estimated parameter standard deviations will be np.nan. (hyperspy.model:1283)\u001b[0m\n\u001b[33;20mWARNING | Hyperspy | Covariance of the parameters could not be estimated. Estimated parameter standard deviations will be np.nan. (hyperspy.model:1283)\u001b[0m\n\u001b[33;20mWARNING | Hyperspy | Covariance of the parameters could not be estimated. Estimated parameter standard deviations will be np.nan. (hyperspy.model:1283)\u001b[0m\n\u001b[33;20mWARNING | Hyperspy | Covariance of the parameters could not be estimated. Estimated parameter standard deviations will be np.nan. (hyperspy.model:1283)\u001b[0m\n\u001b[33;20mWARNING | Hyperspy | Covariance of the parameters could not be estimated. Estimated parameter standard deviations will be np.nan. (hyperspy.model:1283)\u001b[0m\n\u001b[33;20mWARNING | Hyperspy | Covariance of the parameters could not be estimated. Estimated parameter standard deviations will be np.nan. (hyperspy.model:1283)\u001b[0m\n\u001b[33;20mWARNING | Hyperspy | Covariance of the parameters could not be estimated. Estimated parameter standard deviations will be np.nan. (hyperspy.model:1283)\u001b[0m\n\u001b[33;20mWARNING | Hyperspy | Covariance of the parameters could not be estimated. Estimated parameter standard deviations will be np.nan. (hyperspy.model:1283)\u001b[0m\n\u001b[33;20mWARNING | Hyperspy | Covariance of the parameters could not be estimated. Estimated parameter standard deviations will be np.nan. (hyperspy.model:1283)\u001b[0m\n\u001b[33;20mWARNING | Hyperspy | Covariance of the parameters could not be estimated. Estimated parameter standard deviations will be np.nan. (hyperspy.model:1283)\u001b[0m\n\u001b[33;20mWARNING | Hyperspy | Covariance of the parameters could not be estimated. Estimated parameter standard deviations will be np.nan. (hyperspy.model:1283)\u001b[0m\n\u001b[33;20mWARNING | Hyperspy | Covariance of the parameters could not be estimated. Estimated parameter standard deviations will be np.nan. (hyperspy.model:1283)\u001b[0m\n\u001b[33;20mWARNING | Hyperspy | Covariance of the parameters could not be estimated. Estimated parameter standard deviations will be np.nan. (hyperspy.model:1283)\u001b[0m\n",
          "output_type": "stream"
        },
        {
          "name": "stderr",
          "text": " 73%|███████▎  | 749/1024 [00:18<00:03, 81.49it/s]",
          "output_type": "stream"
        },
        {
          "name": "stdout",
          "text": "\u001b[33;20mWARNING | Hyperspy | Covariance of the parameters could not be estimated. Estimated parameter standard deviations will be np.nan. (hyperspy.model:1283)\u001b[0m\n\u001b[33;20mWARNING | Hyperspy | Covariance of the parameters could not be estimated. Estimated parameter standard deviations will be np.nan. (hyperspy.model:1283)\u001b[0m\n\u001b[33;20mWARNING | Hyperspy | Covariance of the parameters could not be estimated. Estimated parameter standard deviations will be np.nan. (hyperspy.model:1283)\u001b[0m\n\u001b[33;20mWARNING | Hyperspy | Covariance of the parameters could not be estimated. Estimated parameter standard deviations will be np.nan. (hyperspy.model:1283)\u001b[0m\n\u001b[33;20mWARNING | Hyperspy | Covariance of the parameters could not be estimated. Estimated parameter standard deviations will be np.nan. (hyperspy.model:1283)\u001b[0m\n\u001b[33;20mWARNING | Hyperspy | Covariance of the parameters could not be estimated. Estimated parameter standard deviations will be np.nan. (hyperspy.model:1283)\u001b[0m\n\u001b[33;20mWARNING | Hyperspy | Covariance of the parameters could not be estimated. Estimated parameter standard deviations will be np.nan. (hyperspy.model:1283)\u001b[0m\n\u001b[33;20mWARNING | Hyperspy | Covariance of the parameters could not be estimated. Estimated parameter standard deviations will be np.nan. (hyperspy.model:1283)\u001b[0m\n\u001b[33;20mWARNING | Hyperspy | Covariance of the parameters could not be estimated. Estimated parameter standard deviations will be np.nan. (hyperspy.model:1283)\u001b[0m\n\u001b[33;20mWARNING | Hyperspy | Covariance of the parameters could not be estimated. Estimated parameter standard deviations will be np.nan. (hyperspy.model:1283)\u001b[0m\n\u001b[33;20mWARNING | Hyperspy | Covariance of the parameters could not be estimated. Estimated parameter standard deviations will be np.nan. (hyperspy.model:1283)\u001b[0m\n\u001b[33;20mWARNING | Hyperspy | Covariance of the parameters could not be estimated. Estimated parameter standard deviations will be np.nan. (hyperspy.model:1283)\u001b[0m\n\u001b[33;20mWARNING | Hyperspy | Covariance of the parameters could not be estimated. Estimated parameter standard deviations will be np.nan. (hyperspy.model:1283)\u001b[0m\n\u001b[33;20mWARNING | Hyperspy | Covariance of the parameters could not be estimated. Estimated parameter standard deviations will be np.nan. (hyperspy.model:1283)\u001b[0m\n\u001b[33;20mWARNING | Hyperspy | Covariance of the parameters could not be estimated. Estimated parameter standard deviations will be np.nan. (hyperspy.model:1283)\u001b[0m\n\u001b[33;20mWARNING | Hyperspy | Covariance of the parameters could not be estimated. Estimated parameter standard deviations will be np.nan. (hyperspy.model:1283)\u001b[0m\n\u001b[33;20mWARNING | Hyperspy | Covariance of the parameters could not be estimated. Estimated parameter standard deviations will be np.nan. (hyperspy.model:1283)\u001b[0m\n",
          "output_type": "stream"
        },
        {
          "name": "stderr",
          "text": " 75%|███████▍  | 766/1024 [00:18<00:02, 105.56it/s]",
          "output_type": "stream"
        },
        {
          "name": "stdout",
          "text": "\u001b[33;20mWARNING | Hyperspy | Covariance of the parameters could not be estimated. Estimated parameter standard deviations will be np.nan. (hyperspy.model:1283)\u001b[0m\n\u001b[33;20mWARNING | Hyperspy | Covariance of the parameters could not be estimated. Estimated parameter standard deviations will be np.nan. (hyperspy.model:1283)\u001b[0m\n\u001b[33;20mWARNING | Hyperspy | Covariance of the parameters could not be estimated. Estimated parameter standard deviations will be np.nan. (hyperspy.model:1283)\u001b[0m\n\u001b[33;20mWARNING | Hyperspy | Covariance of the parameters could not be estimated. Estimated parameter standard deviations will be np.nan. (hyperspy.model:1283)\u001b[0m\n\u001b[33;20mWARNING | Hyperspy | Covariance of the parameters could not be estimated. Estimated parameter standard deviations will be np.nan. (hyperspy.model:1283)\u001b[0m\n\u001b[33;20mWARNING | Hyperspy | Covariance of the parameters could not be estimated. Estimated parameter standard deviations will be np.nan. (hyperspy.model:1283)\u001b[0m\n\u001b[33;20mWARNING | Hyperspy | Covariance of the parameters could not be estimated. Estimated parameter standard deviations will be np.nan. (hyperspy.model:1283)\u001b[0m\n\u001b[33;20mWARNING | Hyperspy | Covariance of the parameters could not be estimated. Estimated parameter standard deviations will be np.nan. (hyperspy.model:1283)\u001b[0m\n\u001b[33;20mWARNING | Hyperspy | Covariance of the parameters could not be estimated. Estimated parameter standard deviations will be np.nan. (hyperspy.model:1283)\u001b[0m\n\u001b[33;20mWARNING | Hyperspy | Covariance of the parameters could not be estimated. Estimated parameter standard deviations will be np.nan. (hyperspy.model:1283)\u001b[0m\n\u001b[33;20mWARNING | Hyperspy | Covariance of the parameters could not be estimated. Estimated parameter standard deviations will be np.nan. (hyperspy.model:1283)\u001b[0m\n\u001b[33;20mWARNING | Hyperspy | Covariance of the parameters could not be estimated. Estimated parameter standard deviations will be np.nan. (hyperspy.model:1283)\u001b[0m\n\u001b[33;20mWARNING | Hyperspy | Covariance of the parameters could not be estimated. Estimated parameter standard deviations will be np.nan. (hyperspy.model:1283)\u001b[0m\n\u001b[33;20mWARNING | Hyperspy | Covariance of the parameters could not be estimated. Estimated parameter standard deviations will be np.nan. (hyperspy.model:1283)\u001b[0m\n\u001b[33;20mWARNING | Hyperspy | Covariance of the parameters could not be estimated. Estimated parameter standard deviations will be np.nan. (hyperspy.model:1283)\u001b[0m\n\u001b[33;20mWARNING | Hyperspy | Covariance of the parameters could not be estimated. Estimated parameter standard deviations will be np.nan. (hyperspy.model:1283)\u001b[0m\n\u001b[33;20mWARNING | Hyperspy | Covariance of the parameters could not be estimated. Estimated parameter standard deviations will be np.nan. (hyperspy.model:1283)\u001b[0m\n",
          "output_type": "stream"
        },
        {
          "name": "stderr",
          "text": " 76%|███████▋  | 783/1024 [00:19<00:01, 122.55it/s]",
          "output_type": "stream"
        },
        {
          "name": "stdout",
          "text": "\u001b[33;20mWARNING | Hyperspy | Covariance of the parameters could not be estimated. Estimated parameter standard deviations will be np.nan. (hyperspy.model:1283)\u001b[0m\n\u001b[33;20mWARNING | Hyperspy | Covariance of the parameters could not be estimated. Estimated parameter standard deviations will be np.nan. (hyperspy.model:1283)\u001b[0m\n\u001b[33;20mWARNING | Hyperspy | Covariance of the parameters could not be estimated. Estimated parameter standard deviations will be np.nan. (hyperspy.model:1283)\u001b[0m\n\u001b[33;20mWARNING | Hyperspy | Covariance of the parameters could not be estimated. Estimated parameter standard deviations will be np.nan. (hyperspy.model:1283)\u001b[0m\n\u001b[33;20mWARNING | Hyperspy | Covariance of the parameters could not be estimated. Estimated parameter standard deviations will be np.nan. (hyperspy.model:1283)\u001b[0m\n\u001b[33;20mWARNING | Hyperspy | Covariance of the parameters could not be estimated. Estimated parameter standard deviations will be np.nan. (hyperspy.model:1283)\u001b[0m\n\u001b[33;20mWARNING | Hyperspy | Covariance of the parameters could not be estimated. Estimated parameter standard deviations will be np.nan. (hyperspy.model:1283)\u001b[0m\n\u001b[33;20mWARNING | Hyperspy | Covariance of the parameters could not be estimated. Estimated parameter standard deviations will be np.nan. (hyperspy.model:1283)\u001b[0m\n\u001b[33;20mWARNING | Hyperspy | Covariance of the parameters could not be estimated. Estimated parameter standard deviations will be np.nan. (hyperspy.model:1283)\u001b[0m\n\u001b[33;20mWARNING | Hyperspy | Covariance of the parameters could not be estimated. Estimated parameter standard deviations will be np.nan. (hyperspy.model:1283)\u001b[0m\n\u001b[33;20mWARNING | Hyperspy | Covariance of the parameters could not be estimated. Estimated parameter standard deviations will be np.nan. (hyperspy.model:1283)\u001b[0m\n\u001b[33;20mWARNING | Hyperspy | Covariance of the parameters could not be estimated. Estimated parameter standard deviations will be np.nan. (hyperspy.model:1283)\u001b[0m\n\u001b[33;20mWARNING | Hyperspy | Covariance of the parameters could not be estimated. Estimated parameter standard deviations will be np.nan. (hyperspy.model:1283)\u001b[0m\n\u001b[33;20mWARNING | Hyperspy | Covariance of the parameters could not be estimated. Estimated parameter standard deviations will be np.nan. (hyperspy.model:1283)\u001b[0m\n\u001b[33;20mWARNING | Hyperspy | Covariance of the parameters could not be estimated. Estimated parameter standard deviations will be np.nan. (hyperspy.model:1283)\u001b[0m\n\u001b[33;20mWARNING | Hyperspy | Covariance of the parameters could not be estimated. Estimated parameter standard deviations will be np.nan. (hyperspy.model:1283)\u001b[0m\n",
          "output_type": "stream"
        },
        {
          "name": "stderr",
          "text": " 78%|███████▊  | 799/1024 [00:19<00:01, 132.17it/s]",
          "output_type": "stream"
        },
        {
          "name": "stdout",
          "text": "\u001b[33;20mWARNING | Hyperspy | Covariance of the parameters could not be estimated. Estimated parameter standard deviations will be np.nan. (hyperspy.model:1283)\u001b[0m\n\u001b[33;20mWARNING | Hyperspy | Covariance of the parameters could not be estimated. Estimated parameter standard deviations will be np.nan. (hyperspy.model:1283)\u001b[0m\n\u001b[33;20mWARNING | Hyperspy | Covariance of the parameters could not be estimated. Estimated parameter standard deviations will be np.nan. (hyperspy.model:1283)\u001b[0m\n\u001b[33;20mWARNING | Hyperspy | Covariance of the parameters could not be estimated. Estimated parameter standard deviations will be np.nan. (hyperspy.model:1283)\u001b[0m\n\u001b[33;20mWARNING | Hyperspy | Covariance of the parameters could not be estimated. Estimated parameter standard deviations will be np.nan. (hyperspy.model:1283)\u001b[0m\n\u001b[33;20mWARNING | Hyperspy | Covariance of the parameters could not be estimated. Estimated parameter standard deviations will be np.nan. (hyperspy.model:1283)\u001b[0m\n\u001b[33;20mWARNING | Hyperspy | Covariance of the parameters could not be estimated. Estimated parameter standard deviations will be np.nan. (hyperspy.model:1283)\u001b[0m\n\u001b[33;20mWARNING | Hyperspy | Covariance of the parameters could not be estimated. Estimated parameter standard deviations will be np.nan. (hyperspy.model:1283)\u001b[0m\n\u001b[33;20mWARNING | Hyperspy | Covariance of the parameters could not be estimated. Estimated parameter standard deviations will be np.nan. (hyperspy.model:1283)\u001b[0m\n\u001b[33;20mWARNING | Hyperspy | Covariance of the parameters could not be estimated. Estimated parameter standard deviations will be np.nan. (hyperspy.model:1283)\u001b[0m\n\u001b[33;20mWARNING | Hyperspy | Covariance of the parameters could not be estimated. Estimated parameter standard deviations will be np.nan. (hyperspy.model:1283)\u001b[0m\n\u001b[33;20mWARNING | Hyperspy | Covariance of the parameters could not be estimated. Estimated parameter standard deviations will be np.nan. (hyperspy.model:1283)\u001b[0m\n\u001b[33;20mWARNING | Hyperspy | Covariance of the parameters could not be estimated. Estimated parameter standard deviations will be np.nan. (hyperspy.model:1283)\u001b[0m\n\u001b[33;20mWARNING | Hyperspy | Covariance of the parameters could not be estimated. Estimated parameter standard deviations will be np.nan. (hyperspy.model:1283)\u001b[0m\n\u001b[33;20mWARNING | Hyperspy | Covariance of the parameters could not be estimated. Estimated parameter standard deviations will be np.nan. (hyperspy.model:1283)\u001b[0m\n",
          "output_type": "stream"
        },
        {
          "name": "stderr",
          "text": " 79%|███████▉  | 814/1024 [00:19<00:01, 136.15it/s]",
          "output_type": "stream"
        },
        {
          "name": "stdout",
          "text": "\u001b[33;20mWARNING | Hyperspy | Covariance of the parameters could not be estimated. Estimated parameter standard deviations will be np.nan. (hyperspy.model:1283)\u001b[0m\n\u001b[33;20mWARNING | Hyperspy | Covariance of the parameters could not be estimated. Estimated parameter standard deviations will be np.nan. (hyperspy.model:1283)\u001b[0m\n\u001b[33;20mWARNING | Hyperspy | Covariance of the parameters could not be estimated. Estimated parameter standard deviations will be np.nan. (hyperspy.model:1283)\u001b[0m\n\u001b[33;20mWARNING | Hyperspy | Covariance of the parameters could not be estimated. Estimated parameter standard deviations will be np.nan. (hyperspy.model:1283)\u001b[0m\n\u001b[33;20mWARNING | Hyperspy | Covariance of the parameters could not be estimated. Estimated parameter standard deviations will be np.nan. (hyperspy.model:1283)\u001b[0m\n\u001b[33;20mWARNING | Hyperspy | Covariance of the parameters could not be estimated. Estimated parameter standard deviations will be np.nan. (hyperspy.model:1283)\u001b[0m\n\u001b[33;20mWARNING | Hyperspy | Covariance of the parameters could not be estimated. Estimated parameter standard deviations will be np.nan. (hyperspy.model:1283)\u001b[0m\n\u001b[33;20mWARNING | Hyperspy | Covariance of the parameters could not be estimated. Estimated parameter standard deviations will be np.nan. (hyperspy.model:1283)\u001b[0m\n\u001b[33;20mWARNING | Hyperspy | Covariance of the parameters could not be estimated. Estimated parameter standard deviations will be np.nan. (hyperspy.model:1283)\u001b[0m\n\u001b[33;20mWARNING | Hyperspy | Covariance of the parameters could not be estimated. Estimated parameter standard deviations will be np.nan. (hyperspy.model:1283)\u001b[0m\n\u001b[33;20mWARNING | Hyperspy | Covariance of the parameters could not be estimated. Estimated parameter standard deviations will be np.nan. (hyperspy.model:1283)\u001b[0m\n\u001b[33;20mWARNING | Hyperspy | Covariance of the parameters could not be estimated. Estimated parameter standard deviations will be np.nan. (hyperspy.model:1283)\u001b[0m\n\u001b[33;20mWARNING | Hyperspy | Covariance of the parameters could not be estimated. Estimated parameter standard deviations will be np.nan. (hyperspy.model:1283)\u001b[0m\n\u001b[33;20mWARNING | Hyperspy | Covariance of the parameters could not be estimated. Estimated parameter standard deviations will be np.nan. (hyperspy.model:1283)\u001b[0m\n\u001b[33;20mWARNING | Hyperspy | Covariance of the parameters could not be estimated. Estimated parameter standard deviations will be np.nan. (hyperspy.model:1283)\u001b[0m\n\u001b[33;20mWARNING | Hyperspy | Covariance of the parameters could not be estimated. Estimated parameter standard deviations will be np.nan. (hyperspy.model:1283)\u001b[0m\n\u001b[33;20mWARNING | Hyperspy | Covariance of the parameters could not be estimated. Estimated parameter standard deviations will be np.nan. (hyperspy.model:1283)\u001b[0m\n",
          "output_type": "stream"
        },
        {
          "name": "stderr",
          "text": " 81%|████████  | 831/1024 [00:19<00:01, 143.90it/s]",
          "output_type": "stream"
        },
        {
          "name": "stdout",
          "text": "\u001b[33;20mWARNING | Hyperspy | Covariance of the parameters could not be estimated. Estimated parameter standard deviations will be np.nan. (hyperspy.model:1283)\u001b[0m\n\u001b[33;20mWARNING | Hyperspy | Covariance of the parameters could not be estimated. Estimated parameter standard deviations will be np.nan. (hyperspy.model:1283)\u001b[0m\n\u001b[33;20mWARNING | Hyperspy | Covariance of the parameters could not be estimated. Estimated parameter standard deviations will be np.nan. (hyperspy.model:1283)\u001b[0m\n\u001b[33;20mWARNING | Hyperspy | Covariance of the parameters could not be estimated. Estimated parameter standard deviations will be np.nan. (hyperspy.model:1283)\u001b[0m\n\u001b[33;20mWARNING | Hyperspy | Covariance of the parameters could not be estimated. Estimated parameter standard deviations will be np.nan. (hyperspy.model:1283)\u001b[0m\n\u001b[33;20mWARNING | Hyperspy | Covariance of the parameters could not be estimated. Estimated parameter standard deviations will be np.nan. (hyperspy.model:1283)\u001b[0m\n\u001b[33;20mWARNING | Hyperspy | Covariance of the parameters could not be estimated. Estimated parameter standard deviations will be np.nan. (hyperspy.model:1283)\u001b[0m\n\u001b[33;20mWARNING | Hyperspy | Covariance of the parameters could not be estimated. Estimated parameter standard deviations will be np.nan. (hyperspy.model:1283)\u001b[0m\n\u001b[33;20mWARNING | Hyperspy | Covariance of the parameters could not be estimated. Estimated parameter standard deviations will be np.nan. (hyperspy.model:1283)\u001b[0m\n\u001b[33;20mWARNING | Hyperspy | Covariance of the parameters could not be estimated. Estimated parameter standard deviations will be np.nan. (hyperspy.model:1283)\u001b[0m\n\u001b[33;20mWARNING | Hyperspy | Covariance of the parameters could not be estimated. Estimated parameter standard deviations will be np.nan. (hyperspy.model:1283)\u001b[0m\n\u001b[33;20mWARNING | Hyperspy | Covariance of the parameters could not be estimated. Estimated parameter standard deviations will be np.nan. (hyperspy.model:1283)\u001b[0m\n\u001b[33;20mWARNING | Hyperspy | Covariance of the parameters could not be estimated. Estimated parameter standard deviations will be np.nan. (hyperspy.model:1283)\u001b[0m\n\u001b[33;20mWARNING | Hyperspy | Covariance of the parameters could not be estimated. Estimated parameter standard deviations will be np.nan. (hyperspy.model:1283)\u001b[0m\n\u001b[33;20mWARNING | Hyperspy | Covariance of the parameters could not be estimated. Estimated parameter standard deviations will be np.nan. (hyperspy.model:1283)\u001b[0m\n",
          "output_type": "stream"
        },
        {
          "name": "stderr",
          "text": " 83%|████████▎ | 846/1024 [00:19<00:01, 141.96it/s]",
          "output_type": "stream"
        },
        {
          "name": "stdout",
          "text": "\u001b[33;20mWARNING | Hyperspy | Covariance of the parameters could not be estimated. Estimated parameter standard deviations will be np.nan. (hyperspy.model:1283)\u001b[0m\n\u001b[33;20mWARNING | Hyperspy | Covariance of the parameters could not be estimated. Estimated parameter standard deviations will be np.nan. (hyperspy.model:1283)\u001b[0m\n\u001b[33;20mWARNING | Hyperspy | Covariance of the parameters could not be estimated. Estimated parameter standard deviations will be np.nan. (hyperspy.model:1283)\u001b[0m\n\u001b[33;20mWARNING | Hyperspy | Covariance of the parameters could not be estimated. Estimated parameter standard deviations will be np.nan. (hyperspy.model:1283)\u001b[0m\n\u001b[33;20mWARNING | Hyperspy | Covariance of the parameters could not be estimated. Estimated parameter standard deviations will be np.nan. (hyperspy.model:1283)\u001b[0m\n\u001b[33;20mWARNING | Hyperspy | Covariance of the parameters could not be estimated. Estimated parameter standard deviations will be np.nan. (hyperspy.model:1283)\u001b[0m\n\u001b[33;20mWARNING | Hyperspy | Covariance of the parameters could not be estimated. Estimated parameter standard deviations will be np.nan. (hyperspy.model:1283)\u001b[0m\n\u001b[33;20mWARNING | Hyperspy | Covariance of the parameters could not be estimated. Estimated parameter standard deviations will be np.nan. (hyperspy.model:1283)\u001b[0m\n\u001b[33;20mWARNING | Hyperspy | Covariance of the parameters could not be estimated. Estimated parameter standard deviations will be np.nan. (hyperspy.model:1283)\u001b[0m\n\u001b[33;20mWARNING | Hyperspy | Covariance of the parameters could not be estimated. Estimated parameter standard deviations will be np.nan. (hyperspy.model:1283)\u001b[0m\n\u001b[33;20mWARNING | Hyperspy | Covariance of the parameters could not be estimated. Estimated parameter standard deviations will be np.nan. (hyperspy.model:1283)\u001b[0m\n\u001b[33;20mWARNING | Hyperspy | Covariance of the parameters could not be estimated. Estimated parameter standard deviations will be np.nan. (hyperspy.model:1283)\u001b[0m\n\u001b[33;20mWARNING | Hyperspy | Covariance of the parameters could not be estimated. Estimated parameter standard deviations will be np.nan. (hyperspy.model:1283)\u001b[0m\n\u001b[33;20mWARNING | Hyperspy | Covariance of the parameters could not be estimated. Estimated parameter standard deviations will be np.nan. (hyperspy.model:1283)\u001b[0m\n\u001b[33;20mWARNING | Hyperspy | Covariance of the parameters could not be estimated. Estimated parameter standard deviations will be np.nan. (hyperspy.model:1283)\u001b[0m\n\u001b[33;20mWARNING | Hyperspy | Covariance of the parameters could not be estimated. Estimated parameter standard deviations will be np.nan. (hyperspy.model:1283)\u001b[0m\n\u001b[33;20mWARNING | Hyperspy | Covariance of the parameters could not be estimated. Estimated parameter standard deviations will be np.nan. (hyperspy.model:1283)\u001b[0m\n",
          "output_type": "stream"
        },
        {
          "name": "stderr",
          "text": " 84%|████████▍ | 863/1024 [00:19<00:01, 147.07it/s]",
          "output_type": "stream"
        },
        {
          "name": "stdout",
          "text": "\u001b[33;20mWARNING | Hyperspy | Covariance of the parameters could not be estimated. Estimated parameter standard deviations will be np.nan. (hyperspy.model:1283)\u001b[0m\n\u001b[33;20mWARNING | Hyperspy | Covariance of the parameters could not be estimated. Estimated parameter standard deviations will be np.nan. (hyperspy.model:1283)\u001b[0m\n\u001b[33;20mWARNING | Hyperspy | Covariance of the parameters could not be estimated. Estimated parameter standard deviations will be np.nan. (hyperspy.model:1283)\u001b[0m\n\u001b[33;20mWARNING | Hyperspy | Covariance of the parameters could not be estimated. Estimated parameter standard deviations will be np.nan. (hyperspy.model:1283)\u001b[0m\n\u001b[33;20mWARNING | Hyperspy | Covariance of the parameters could not be estimated. Estimated parameter standard deviations will be np.nan. (hyperspy.model:1283)\u001b[0m\n\u001b[33;20mWARNING | Hyperspy | Covariance of the parameters could not be estimated. Estimated parameter standard deviations will be np.nan. (hyperspy.model:1283)\u001b[0m\n\u001b[33;20mWARNING | Hyperspy | Covariance of the parameters could not be estimated. Estimated parameter standard deviations will be np.nan. (hyperspy.model:1283)\u001b[0m\n\u001b[33;20mWARNING | Hyperspy | Covariance of the parameters could not be estimated. Estimated parameter standard deviations will be np.nan. (hyperspy.model:1283)\u001b[0m\n\u001b[33;20mWARNING | Hyperspy | Covariance of the parameters could not be estimated. Estimated parameter standard deviations will be np.nan. (hyperspy.model:1283)\u001b[0m\n\u001b[33;20mWARNING | Hyperspy | Covariance of the parameters could not be estimated. Estimated parameter standard deviations will be np.nan. (hyperspy.model:1283)\u001b[0m\n\u001b[33;20mWARNING | Hyperspy | Covariance of the parameters could not be estimated. Estimated parameter standard deviations will be np.nan. (hyperspy.model:1283)\u001b[0m\n\u001b[33;20mWARNING | Hyperspy | Covariance of the parameters could not be estimated. Estimated parameter standard deviations will be np.nan. (hyperspy.model:1283)\u001b[0m\n\u001b[33;20mWARNING | Hyperspy | Covariance of the parameters could not be estimated. Estimated parameter standard deviations will be np.nan. (hyperspy.model:1283)\u001b[0m\n\u001b[33;20mWARNING | Hyperspy | Covariance of the parameters could not be estimated. Estimated parameter standard deviations will be np.nan. (hyperspy.model:1283)\u001b[0m\n\u001b[33;20mWARNING | Hyperspy | Covariance of the parameters could not be estimated. Estimated parameter standard deviations will be np.nan. (hyperspy.model:1283)\u001b[0m\n\u001b[33;20mWARNING | Hyperspy | Covariance of the parameters could not be estimated. Estimated parameter standard deviations will be np.nan. (hyperspy.model:1283)\u001b[0m\n",
          "output_type": "stream"
        },
        {
          "name": "stderr",
          "text": " 86%|████████▌ | 879/1024 [00:19<00:00, 149.49it/s]",
          "output_type": "stream"
        },
        {
          "name": "stdout",
          "text": "\u001b[33;20mWARNING | Hyperspy | Covariance of the parameters could not be estimated. Estimated parameter standard deviations will be np.nan. (hyperspy.model:1283)\u001b[0m\n\u001b[33;20mWARNING | Hyperspy | Covariance of the parameters could not be estimated. Estimated parameter standard deviations will be np.nan. (hyperspy.model:1283)\u001b[0m\n\u001b[33;20mWARNING | Hyperspy | Covariance of the parameters could not be estimated. Estimated parameter standard deviations will be np.nan. (hyperspy.model:1283)\u001b[0m\n\u001b[33;20mWARNING | Hyperspy | Covariance of the parameters could not be estimated. Estimated parameter standard deviations will be np.nan. (hyperspy.model:1283)\u001b[0m\n\u001b[33;20mWARNING | Hyperspy | Covariance of the parameters could not be estimated. Estimated parameter standard deviations will be np.nan. (hyperspy.model:1283)\u001b[0m\n\u001b[33;20mWARNING | Hyperspy | Covariance of the parameters could not be estimated. Estimated parameter standard deviations will be np.nan. (hyperspy.model:1283)\u001b[0m\n\u001b[33;20mWARNING | Hyperspy | Covariance of the parameters could not be estimated. Estimated parameter standard deviations will be np.nan. (hyperspy.model:1283)\u001b[0m\n\u001b[33;20mWARNING | Hyperspy | Covariance of the parameters could not be estimated. Estimated parameter standard deviations will be np.nan. (hyperspy.model:1283)\u001b[0m\n\u001b[33;20mWARNING | Hyperspy | Covariance of the parameters could not be estimated. Estimated parameter standard deviations will be np.nan. (hyperspy.model:1283)\u001b[0m\n\u001b[33;20mWARNING | Hyperspy | Covariance of the parameters could not be estimated. Estimated parameter standard deviations will be np.nan. (hyperspy.model:1283)\u001b[0m\n\u001b[33;20mWARNING | Hyperspy | Covariance of the parameters could not be estimated. Estimated parameter standard deviations will be np.nan. (hyperspy.model:1283)\u001b[0m\n\u001b[33;20mWARNING | Hyperspy | Covariance of the parameters could not be estimated. Estimated parameter standard deviations will be np.nan. (hyperspy.model:1283)\u001b[0m\n\u001b[33;20mWARNING | Hyperspy | Covariance of the parameters could not be estimated. Estimated parameter standard deviations will be np.nan. (hyperspy.model:1283)\u001b[0m\n\u001b[33;20mWARNING | Hyperspy | Covariance of the parameters could not be estimated. Estimated parameter standard deviations will be np.nan. (hyperspy.model:1283)\u001b[0m\n\u001b[33;20mWARNING | Hyperspy | Covariance of the parameters could not be estimated. Estimated parameter standard deviations will be np.nan. (hyperspy.model:1283)\u001b[0m\n\u001b[33;20mWARNING | Hyperspy | Covariance of the parameters could not be estimated. Estimated parameter standard deviations will be np.nan. (hyperspy.model:1283)\u001b[0m\n",
          "output_type": "stream"
        },
        {
          "name": "stderr",
          "text": " 87%|████████▋ | 895/1024 [00:19<00:00, 151.66it/s]",
          "output_type": "stream"
        },
        {
          "name": "stdout",
          "text": "\u001b[33;20mWARNING | Hyperspy | Covariance of the parameters could not be estimated. Estimated parameter standard deviations will be np.nan. (hyperspy.model:1283)\u001b[0m\n\u001b[33;20mWARNING | Hyperspy | Covariance of the parameters could not be estimated. Estimated parameter standard deviations will be np.nan. (hyperspy.model:1283)\u001b[0m\n\u001b[33;20mWARNING | Hyperspy | Covariance of the parameters could not be estimated. Estimated parameter standard deviations will be np.nan. (hyperspy.model:1283)\u001b[0m\n\u001b[33;20mWARNING | Hyperspy | Covariance of the parameters could not be estimated. Estimated parameter standard deviations will be np.nan. (hyperspy.model:1283)\u001b[0m\n\u001b[33;20mWARNING | Hyperspy | Covariance of the parameters could not be estimated. Estimated parameter standard deviations will be np.nan. (hyperspy.model:1283)\u001b[0m\n\u001b[33;20mWARNING | Hyperspy | Covariance of the parameters could not be estimated. Estimated parameter standard deviations will be np.nan. (hyperspy.model:1283)\u001b[0m\n\u001b[33;20mWARNING | Hyperspy | Covariance of the parameters could not be estimated. Estimated parameter standard deviations will be np.nan. (hyperspy.model:1283)\u001b[0m\n\u001b[33;20mWARNING | Hyperspy | Covariance of the parameters could not be estimated. Estimated parameter standard deviations will be np.nan. (hyperspy.model:1283)\u001b[0m\n\u001b[33;20mWARNING | Hyperspy | Covariance of the parameters could not be estimated. Estimated parameter standard deviations will be np.nan. (hyperspy.model:1283)\u001b[0m\n\u001b[33;20mWARNING | Hyperspy | Covariance of the parameters could not be estimated. Estimated parameter standard deviations will be np.nan. (hyperspy.model:1283)\u001b[0m\n\u001b[33;20mWARNING | Hyperspy | Covariance of the parameters could not be estimated. Estimated parameter standard deviations will be np.nan. (hyperspy.model:1283)\u001b[0m\n\u001b[33;20mWARNING | Hyperspy | Covariance of the parameters could not be estimated. Estimated parameter standard deviations will be np.nan. (hyperspy.model:1283)\u001b[0m\n\u001b[33;20mWARNING | Hyperspy | Covariance of the parameters could not be estimated. Estimated parameter standard deviations will be np.nan. (hyperspy.model:1283)\u001b[0m\n\u001b[33;20mWARNING | Hyperspy | Covariance of the parameters could not be estimated. Estimated parameter standard deviations will be np.nan. (hyperspy.model:1283)\u001b[0m\n\u001b[33;20mWARNING | Hyperspy | Covariance of the parameters could not be estimated. Estimated parameter standard deviations will be np.nan. (hyperspy.model:1283)\u001b[0m\n\u001b[33;20mWARNING | Hyperspy | Covariance of the parameters could not be estimated. Estimated parameter standard deviations will be np.nan. (hyperspy.model:1283)\u001b[0m\n\u001b[33;20mWARNING | Hyperspy | Covariance of the parameters could not be estimated. Estimated parameter standard deviations will be np.nan. (hyperspy.model:1283)\u001b[0m\n",
          "output_type": "stream"
        },
        {
          "name": "stderr",
          "text": " 89%|████████▉ | 912/1024 [00:19<00:00, 157.00it/s]",
          "output_type": "stream"
        },
        {
          "name": "stdout",
          "text": "\u001b[33;20mWARNING | Hyperspy | Covariance of the parameters could not be estimated. Estimated parameter standard deviations will be np.nan. (hyperspy.model:1283)\u001b[0m\n\u001b[33;20mWARNING | Hyperspy | Covariance of the parameters could not be estimated. Estimated parameter standard deviations will be np.nan. (hyperspy.model:1283)\u001b[0m\n\u001b[33;20mWARNING | Hyperspy | Covariance of the parameters could not be estimated. Estimated parameter standard deviations will be np.nan. (hyperspy.model:1283)\u001b[0m\n\u001b[33;20mWARNING | Hyperspy | Covariance of the parameters could not be estimated. Estimated parameter standard deviations will be np.nan. (hyperspy.model:1283)\u001b[0m\n\u001b[33;20mWARNING | Hyperspy | Covariance of the parameters could not be estimated. Estimated parameter standard deviations will be np.nan. (hyperspy.model:1283)\u001b[0m\n\u001b[33;20mWARNING | Hyperspy | Covariance of the parameters could not be estimated. Estimated parameter standard deviations will be np.nan. (hyperspy.model:1283)\u001b[0m\n\u001b[33;20mWARNING | Hyperspy | Covariance of the parameters could not be estimated. Estimated parameter standard deviations will be np.nan. (hyperspy.model:1283)\u001b[0m\n\u001b[33;20mWARNING | Hyperspy | Covariance of the parameters could not be estimated. Estimated parameter standard deviations will be np.nan. (hyperspy.model:1283)\u001b[0m\n\u001b[33;20mWARNING | Hyperspy | Covariance of the parameters could not be estimated. Estimated parameter standard deviations will be np.nan. (hyperspy.model:1283)\u001b[0m\n\u001b[33;20mWARNING | Hyperspy | Covariance of the parameters could not be estimated. Estimated parameter standard deviations will be np.nan. (hyperspy.model:1283)\u001b[0m\n\u001b[33;20mWARNING | Hyperspy | Covariance of the parameters could not be estimated. Estimated parameter standard deviations will be np.nan. (hyperspy.model:1283)\u001b[0m\n\u001b[33;20mWARNING | Hyperspy | Covariance of the parameters could not be estimated. Estimated parameter standard deviations will be np.nan. (hyperspy.model:1283)\u001b[0m\n\u001b[33;20mWARNING | Hyperspy | Covariance of the parameters could not be estimated. Estimated parameter standard deviations will be np.nan. (hyperspy.model:1283)\u001b[0m\n\u001b[33;20mWARNING | Hyperspy | Covariance of the parameters could not be estimated. Estimated parameter standard deviations will be np.nan. (hyperspy.model:1283)\u001b[0m\n\u001b[33;20mWARNING | Hyperspy | Covariance of the parameters could not be estimated. Estimated parameter standard deviations will be np.nan. (hyperspy.model:1283)\u001b[0m\n\u001b[33;20mWARNING | Hyperspy | Covariance of the parameters could not be estimated. Estimated parameter standard deviations will be np.nan. (hyperspy.model:1283)\u001b[0m\n\u001b[33;20mWARNING | Hyperspy | Covariance of the parameters could not be estimated. Estimated parameter standard deviations will be np.nan. (hyperspy.model:1283)\u001b[0m\n\u001b[33;20mWARNING | Hyperspy | Covariance of the parameters could not be estimated. Estimated parameter standard deviations will be np.nan. (hyperspy.model:1283)\u001b[0m\n",
          "output_type": "stream"
        },
        {
          "name": "stderr",
          "text": " 91%|█████████ | 930/1024 [00:20<00:00, 161.85it/s]",
          "output_type": "stream"
        },
        {
          "name": "stdout",
          "text": "\u001b[33;20mWARNING | Hyperspy | Covariance of the parameters could not be estimated. Estimated parameter standard deviations will be np.nan. (hyperspy.model:1283)\u001b[0m\n\u001b[33;20mWARNING | Hyperspy | Covariance of the parameters could not be estimated. Estimated parameter standard deviations will be np.nan. (hyperspy.model:1283)\u001b[0m\n\u001b[33;20mWARNING | Hyperspy | Covariance of the parameters could not be estimated. Estimated parameter standard deviations will be np.nan. (hyperspy.model:1283)\u001b[0m\n\u001b[33;20mWARNING | Hyperspy | Covariance of the parameters could not be estimated. Estimated parameter standard deviations will be np.nan. (hyperspy.model:1283)\u001b[0m\n\u001b[33;20mWARNING | Hyperspy | Covariance of the parameters could not be estimated. Estimated parameter standard deviations will be np.nan. (hyperspy.model:1283)\u001b[0m\n\u001b[33;20mWARNING | Hyperspy | Covariance of the parameters could not be estimated. Estimated parameter standard deviations will be np.nan. (hyperspy.model:1283)\u001b[0m\n\u001b[33;20mWARNING | Hyperspy | Covariance of the parameters could not be estimated. Estimated parameter standard deviations will be np.nan. (hyperspy.model:1283)\u001b[0m\n\u001b[33;20mWARNING | Hyperspy | Covariance of the parameters could not be estimated. Estimated parameter standard deviations will be np.nan. (hyperspy.model:1283)\u001b[0m\n\u001b[33;20mWARNING | Hyperspy | Covariance of the parameters could not be estimated. Estimated parameter standard deviations will be np.nan. (hyperspy.model:1283)\u001b[0m\n\u001b[33;20mWARNING | Hyperspy | Covariance of the parameters could not be estimated. Estimated parameter standard deviations will be np.nan. (hyperspy.model:1283)\u001b[0m\n\u001b[33;20mWARNING | Hyperspy | Covariance of the parameters could not be estimated. Estimated parameter standard deviations will be np.nan. (hyperspy.model:1283)\u001b[0m\n\u001b[33;20mWARNING | Hyperspy | Covariance of the parameters could not be estimated. Estimated parameter standard deviations will be np.nan. (hyperspy.model:1283)\u001b[0m\n\u001b[33;20mWARNING | Hyperspy | Covariance of the parameters could not be estimated. Estimated parameter standard deviations will be np.nan. (hyperspy.model:1283)\u001b[0m\n\u001b[33;20mWARNING | Hyperspy | Covariance of the parameters could not be estimated. Estimated parameter standard deviations will be np.nan. (hyperspy.model:1283)\u001b[0m\n\u001b[33;20mWARNING | Hyperspy | Covariance of the parameters could not be estimated. Estimated parameter standard deviations will be np.nan. (hyperspy.model:1283)\u001b[0m\n\u001b[33;20mWARNING | Hyperspy | Covariance of the parameters could not be estimated. Estimated parameter standard deviations will be np.nan. (hyperspy.model:1283)\u001b[0m\n\u001b[33;20mWARNING | Hyperspy | Covariance of the parameters could not be estimated. Estimated parameter standard deviations will be np.nan. (hyperspy.model:1283)\u001b[0m\n",
          "output_type": "stream"
        },
        {
          "name": "stderr",
          "text": " 92%|█████████▏| 947/1024 [00:20<00:00, 162.81it/s]",
          "output_type": "stream"
        },
        {
          "name": "stdout",
          "text": "\u001b[33;20mWARNING | Hyperspy | Covariance of the parameters could not be estimated. Estimated parameter standard deviations will be np.nan. (hyperspy.model:1283)\u001b[0m\n\u001b[33;20mWARNING | Hyperspy | Covariance of the parameters could not be estimated. Estimated parameter standard deviations will be np.nan. (hyperspy.model:1283)\u001b[0m\n\u001b[33;20mWARNING | Hyperspy | Covariance of the parameters could not be estimated. Estimated parameter standard deviations will be np.nan. (hyperspy.model:1283)\u001b[0m\n\u001b[33;20mWARNING | Hyperspy | Covariance of the parameters could not be estimated. Estimated parameter standard deviations will be np.nan. (hyperspy.model:1283)\u001b[0m\n\u001b[33;20mWARNING | Hyperspy | Covariance of the parameters could not be estimated. Estimated parameter standard deviations will be np.nan. (hyperspy.model:1283)\u001b[0m\n\u001b[33;20mWARNING | Hyperspy | Covariance of the parameters could not be estimated. Estimated parameter standard deviations will be np.nan. (hyperspy.model:1283)\u001b[0m\n\u001b[33;20mWARNING | Hyperspy | Covariance of the parameters could not be estimated. Estimated parameter standard deviations will be np.nan. (hyperspy.model:1283)\u001b[0m\n\u001b[33;20mWARNING | Hyperspy | Covariance of the parameters could not be estimated. Estimated parameter standard deviations will be np.nan. (hyperspy.model:1283)\u001b[0m\n\u001b[33;20mWARNING | Hyperspy | Covariance of the parameters could not be estimated. Estimated parameter standard deviations will be np.nan. (hyperspy.model:1283)\u001b[0m\n\u001b[33;20mWARNING | Hyperspy | Covariance of the parameters could not be estimated. Estimated parameter standard deviations will be np.nan. (hyperspy.model:1283)\u001b[0m\n\u001b[33;20mWARNING | Hyperspy | Covariance of the parameters could not be estimated. Estimated parameter standard deviations will be np.nan. (hyperspy.model:1283)\u001b[0m\n\u001b[33;20mWARNING | Hyperspy | Covariance of the parameters could not be estimated. Estimated parameter standard deviations will be np.nan. (hyperspy.model:1283)\u001b[0m\n\u001b[33;20mWARNING | Hyperspy | Covariance of the parameters could not be estimated. Estimated parameter standard deviations will be np.nan. (hyperspy.model:1283)\u001b[0m\n\u001b[33;20mWARNING | Hyperspy | Covariance of the parameters could not be estimated. Estimated parameter standard deviations will be np.nan. (hyperspy.model:1283)\u001b[0m\n\u001b[33;20mWARNING | Hyperspy | Covariance of the parameters could not be estimated. Estimated parameter standard deviations will be np.nan. (hyperspy.model:1283)\u001b[0m\n\u001b[33;20mWARNING | Hyperspy | Covariance of the parameters could not be estimated. Estimated parameter standard deviations will be np.nan. (hyperspy.model:1283)\u001b[0m\n\u001b[33;20mWARNING | Hyperspy | Covariance of the parameters could not be estimated. Estimated parameter standard deviations will be np.nan. (hyperspy.model:1283)\u001b[0m\n",
          "output_type": "stream"
        },
        {
          "name": "stderr",
          "text": " 94%|█████████▍| 964/1024 [00:20<00:00, 160.22it/s]",
          "output_type": "stream"
        },
        {
          "name": "stdout",
          "text": "\u001b[33;20mWARNING | Hyperspy | Covariance of the parameters could not be estimated. Estimated parameter standard deviations will be np.nan. (hyperspy.model:1283)\u001b[0m\n\u001b[33;20mWARNING | Hyperspy | Covariance of the parameters could not be estimated. Estimated parameter standard deviations will be np.nan. (hyperspy.model:1283)\u001b[0m\n\u001b[33;20mWARNING | Hyperspy | Covariance of the parameters could not be estimated. Estimated parameter standard deviations will be np.nan. (hyperspy.model:1283)\u001b[0m\n\u001b[33;20mWARNING | Hyperspy | Covariance of the parameters could not be estimated. Estimated parameter standard deviations will be np.nan. (hyperspy.model:1283)\u001b[0m\n\u001b[33;20mWARNING | Hyperspy | Covariance of the parameters could not be estimated. Estimated parameter standard deviations will be np.nan. (hyperspy.model:1283)\u001b[0m\n\u001b[33;20mWARNING | Hyperspy | Covariance of the parameters could not be estimated. Estimated parameter standard deviations will be np.nan. (hyperspy.model:1283)\u001b[0m\n\u001b[33;20mWARNING | Hyperspy | Covariance of the parameters could not be estimated. Estimated parameter standard deviations will be np.nan. (hyperspy.model:1283)\u001b[0m\n\u001b[33;20mWARNING | Hyperspy | Covariance of the parameters could not be estimated. Estimated parameter standard deviations will be np.nan. (hyperspy.model:1283)\u001b[0m\n\u001b[33;20mWARNING | Hyperspy | Covariance of the parameters could not be estimated. Estimated parameter standard deviations will be np.nan. (hyperspy.model:1283)\u001b[0m\n\u001b[33;20mWARNING | Hyperspy | Covariance of the parameters could not be estimated. Estimated parameter standard deviations will be np.nan. (hyperspy.model:1283)\u001b[0m\n\u001b[33;20mWARNING | Hyperspy | Covariance of the parameters could not be estimated. Estimated parameter standard deviations will be np.nan. (hyperspy.model:1283)\u001b[0m\n\u001b[33;20mWARNING | Hyperspy | Covariance of the parameters could not be estimated. Estimated parameter standard deviations will be np.nan. (hyperspy.model:1283)\u001b[0m\n\u001b[33;20mWARNING | Hyperspy | Covariance of the parameters could not be estimated. Estimated parameter standard deviations will be np.nan. (hyperspy.model:1283)\u001b[0m\n\u001b[33;20mWARNING | Hyperspy | Covariance of the parameters could not be estimated. Estimated parameter standard deviations will be np.nan. (hyperspy.model:1283)\u001b[0m\n\u001b[33;20mWARNING | Hyperspy | Covariance of the parameters could not be estimated. Estimated parameter standard deviations will be np.nan. (hyperspy.model:1283)\u001b[0m\n\u001b[33;20mWARNING | Hyperspy | Covariance of the parameters could not be estimated. Estimated parameter standard deviations will be np.nan. (hyperspy.model:1283)\u001b[0m\n\u001b[33;20mWARNING | Hyperspy | Covariance of the parameters could not be estimated. Estimated parameter standard deviations will be np.nan. (hyperspy.model:1283)\u001b[0m\n",
          "output_type": "stream"
        },
        {
          "name": "stderr",
          "text": " 96%|█████████▌| 981/1024 [00:20<00:00, 154.55it/s]",
          "output_type": "stream"
        },
        {
          "name": "stdout",
          "text": "\u001b[33;20mWARNING | Hyperspy | Covariance of the parameters could not be estimated. Estimated parameter standard deviations will be np.nan. (hyperspy.model:1283)\u001b[0m\n\u001b[33;20mWARNING | Hyperspy | Covariance of the parameters could not be estimated. Estimated parameter standard deviations will be np.nan. (hyperspy.model:1283)\u001b[0m\n\u001b[33;20mWARNING | Hyperspy | Covariance of the parameters could not be estimated. Estimated parameter standard deviations will be np.nan. (hyperspy.model:1283)\u001b[0m\n\u001b[33;20mWARNING | Hyperspy | Covariance of the parameters could not be estimated. Estimated parameter standard deviations will be np.nan. (hyperspy.model:1283)\u001b[0m\n\u001b[33;20mWARNING | Hyperspy | Covariance of the parameters could not be estimated. Estimated parameter standard deviations will be np.nan. (hyperspy.model:1283)\u001b[0m\n\u001b[33;20mWARNING | Hyperspy | Covariance of the parameters could not be estimated. Estimated parameter standard deviations will be np.nan. (hyperspy.model:1283)\u001b[0m\n\u001b[33;20mWARNING | Hyperspy | Covariance of the parameters could not be estimated. Estimated parameter standard deviations will be np.nan. (hyperspy.model:1283)\u001b[0m\n\u001b[33;20mWARNING | Hyperspy | Covariance of the parameters could not be estimated. Estimated parameter standard deviations will be np.nan. (hyperspy.model:1283)\u001b[0m\n\u001b[33;20mWARNING | Hyperspy | Covariance of the parameters could not be estimated. Estimated parameter standard deviations will be np.nan. (hyperspy.model:1283)\u001b[0m\n\u001b[33;20mWARNING | Hyperspy | Covariance of the parameters could not be estimated. Estimated parameter standard deviations will be np.nan. (hyperspy.model:1283)\u001b[0m\n\u001b[33;20mWARNING | Hyperspy | Covariance of the parameters could not be estimated. Estimated parameter standard deviations will be np.nan. (hyperspy.model:1283)\u001b[0m\n\u001b[33;20mWARNING | Hyperspy | Covariance of the parameters could not be estimated. Estimated parameter standard deviations will be np.nan. (hyperspy.model:1283)\u001b[0m\n\u001b[33;20mWARNING | Hyperspy | Covariance of the parameters could not be estimated. Estimated parameter standard deviations will be np.nan. (hyperspy.model:1283)\u001b[0m\n\u001b[33;20mWARNING | Hyperspy | Covariance of the parameters could not be estimated. Estimated parameter standard deviations will be np.nan. (hyperspy.model:1283)\u001b[0m\n\u001b[33;20mWARNING | Hyperspy | Covariance of the parameters could not be estimated. Estimated parameter standard deviations will be np.nan. (hyperspy.model:1283)\u001b[0m\n\u001b[33;20mWARNING | Hyperspy | Covariance of the parameters could not be estimated. Estimated parameter standard deviations will be np.nan. (hyperspy.model:1283)\u001b[0m\n",
          "output_type": "stream"
        },
        {
          "name": "stderr",
          "text": " 97%|█████████▋| 997/1024 [00:20<00:00, 153.07it/s]",
          "output_type": "stream"
        },
        {
          "name": "stdout",
          "text": "\u001b[33;20mWARNING | Hyperspy | Covariance of the parameters could not be estimated. Estimated parameter standard deviations will be np.nan. (hyperspy.model:1283)\u001b[0m\n\u001b[33;20mWARNING | Hyperspy | Covariance of the parameters could not be estimated. Estimated parameter standard deviations will be np.nan. (hyperspy.model:1283)\u001b[0m\n\u001b[33;20mWARNING | Hyperspy | Covariance of the parameters could not be estimated. Estimated parameter standard deviations will be np.nan. (hyperspy.model:1283)\u001b[0m\n\u001b[33;20mWARNING | Hyperspy | Covariance of the parameters could not be estimated. Estimated parameter standard deviations will be np.nan. (hyperspy.model:1283)\u001b[0m\n\u001b[33;20mWARNING | Hyperspy | Covariance of the parameters could not be estimated. Estimated parameter standard deviations will be np.nan. (hyperspy.model:1283)\u001b[0m\n\u001b[33;20mWARNING | Hyperspy | Covariance of the parameters could not be estimated. Estimated parameter standard deviations will be np.nan. (hyperspy.model:1283)\u001b[0m\n\u001b[33;20mWARNING | Hyperspy | Covariance of the parameters could not be estimated. Estimated parameter standard deviations will be np.nan. (hyperspy.model:1283)\u001b[0m\n\u001b[33;20mWARNING | Hyperspy | Covariance of the parameters could not be estimated. Estimated parameter standard deviations will be np.nan. (hyperspy.model:1283)\u001b[0m\n\u001b[33;20mWARNING | Hyperspy | Covariance of the parameters could not be estimated. Estimated parameter standard deviations will be np.nan. (hyperspy.model:1283)\u001b[0m\n\u001b[33;20mWARNING | Hyperspy | Covariance of the parameters could not be estimated. Estimated parameter standard deviations will be np.nan. (hyperspy.model:1283)\u001b[0m\n\u001b[33;20mWARNING | Hyperspy | Covariance of the parameters could not be estimated. Estimated parameter standard deviations will be np.nan. (hyperspy.model:1283)\u001b[0m\n\u001b[33;20mWARNING | Hyperspy | Covariance of the parameters could not be estimated. Estimated parameter standard deviations will be np.nan. (hyperspy.model:1283)\u001b[0m\n\u001b[33;20mWARNING | Hyperspy | Covariance of the parameters could not be estimated. Estimated parameter standard deviations will be np.nan. (hyperspy.model:1283)\u001b[0m\n\u001b[33;20mWARNING | Hyperspy | Covariance of the parameters could not be estimated. Estimated parameter standard deviations will be np.nan. (hyperspy.model:1283)\u001b[0m\n\u001b[33;20mWARNING | Hyperspy | Covariance of the parameters could not be estimated. Estimated parameter standard deviations will be np.nan. (hyperspy.model:1283)\u001b[0m\n\u001b[33;20mWARNING | Hyperspy | Covariance of the parameters could not be estimated. Estimated parameter standard deviations will be np.nan. (hyperspy.model:1283)\u001b[0m\n\u001b[33;20mWARNING | Hyperspy | Covariance of the parameters could not be estimated. Estimated parameter standard deviations will be np.nan. (hyperspy.model:1283)\u001b[0m\n\u001b[33;20mWARNING | Hyperspy | Covariance of the parameters could not be estimated. Estimated parameter standard deviations will be np.nan. (hyperspy.model:1283)\u001b[0m\n",
          "output_type": "stream"
        },
        {
          "name": "stderr",
          "text": " 99%|█████████▉| 1015/1024 [00:20<00:00, 159.78it/s]",
          "output_type": "stream"
        },
        {
          "name": "stdout",
          "text": "\u001b[33;20mWARNING | Hyperspy | Covariance of the parameters could not be estimated. Estimated parameter standard deviations will be np.nan. (hyperspy.model:1283)\u001b[0m\n\u001b[33;20mWARNING | Hyperspy | Covariance of the parameters could not be estimated. Estimated parameter standard deviations will be np.nan. (hyperspy.model:1283)\u001b[0m\n\u001b[33;20mWARNING | Hyperspy | Covariance of the parameters could not be estimated. Estimated parameter standard deviations will be np.nan. (hyperspy.model:1283)\u001b[0m\n\u001b[33;20mWARNING | Hyperspy | Covariance of the parameters could not be estimated. Estimated parameter standard deviations will be np.nan. (hyperspy.model:1283)\u001b[0m\n\u001b[33;20mWARNING | Hyperspy | Covariance of the parameters could not be estimated. Estimated parameter standard deviations will be np.nan. (hyperspy.model:1283)\u001b[0m\n\u001b[33;20mWARNING | Hyperspy | Covariance of the parameters could not be estimated. Estimated parameter standard deviations will be np.nan. (hyperspy.model:1283)\u001b[0m\n\u001b[33;20mWARNING | Hyperspy | Covariance of the parameters could not be estimated. Estimated parameter standard deviations will be np.nan. (hyperspy.model:1283)\u001b[0m\n\u001b[33;20mWARNING | Hyperspy | Covariance of the parameters could not be estimated. Estimated parameter standard deviations will be np.nan. (hyperspy.model:1283)\u001b[0m\n\u001b[33;20mWARNING | Hyperspy | Covariance of the parameters could not be estimated. Estimated parameter standard deviations will be np.nan. (hyperspy.model:1283)\u001b[0m\n",
          "output_type": "stream"
        },
        {
          "name": "stderr",
          "text": "",
          "output_type": "stream"
        },
        {
          "name": "stderr",
          "text": "100%|██████████| 1024/1024 [00:20<00:00, 49.67it/s] \n",
          "output_type": "stream"
        }
      ]
    },
    {
      "cell_type": "code",
      "source": "m.plot()",
      "metadata": {
        "trusted": true
      },
      "execution_count": 41,
      "outputs": [
        {
          "output_type": "display_data",
          "data": {
            "text/plain": "HBox(children=(Canvas(toolbar=Toolbar(toolitems=[('Home', 'Reset original view', 'home', 'home'), ('Back', 'Ba…",
            "application/vnd.jupyter.widget-view+json": {
              "version_major": 2,
              "version_minor": 0,
              "model_id": "3f20f507b0284ea98a4773dc19b400ed"
            }
          },
          "metadata": {}
        }
      ]
    },
    {
      "cell_type": "code",
      "source": "m.red_chisq.get_histogram().plot()",
      "metadata": {
        "trusted": true
      },
      "execution_count": 42,
      "outputs": [
        {
          "output_type": "display_data",
          "data": {
            "text/plain": "Canvas(toolbar=Toolbar(toolitems=[('Home', 'Reset original view', 'home', 'home'), ('Back', 'Back to previous …",
            "image/png": "[encoded data removed]",
            "text/html": "\n            <div style=\"display: inline-block;\">\n                <div class=\"jupyter-widgets widget-label\" style=\"text-align: center;\">\n                    Figure Two Gaussians reduced chi-squared histogram Signal\n                </div>\n                <img src='data:image/png;base64,iVBORw0KGgoAAAANSUhEUgAAAoAAAAHgCAYAAAA10dzkAAAAOXRFWHRTb2Z0d2FyZQBNYXRwbG90bGliIHZlcnNpb24zLjUuMiwgaHR0cHM6Ly9tYXRwbG90bGliLm9yZy8qNh9FAAAACXBIWXMAAA9hAAAPYQGoP6dpAABIPElEQVR4nO3deVhV1eL/8c9BBAQEBBkk51lz1lREM5VELefsal5DraycUrPB2820ybJu2qTeujeHblmpaVo5hWYOaOrN6WpqhkMqWBqgKKiwfn/w43w9Ak6cw7Tfr+c5j5y919lrnb0Pxw9rr722zRhjBAAAAMtwK+wGAAAAoGARAAEAACyGAAgAAGAxBEAAAACLIQACAABYDAEQAADAYgiAAAAAFkMABAAAsBgCIAAAgMUQAAEAACyGAAgAAGAxBEAAAACLIQACAABYDAEQAADAYgiAgAtVrVpVgwcPLuxmFDibzaZJkyYVdjPyNHjwYFWtWtUp27rrrrvUoEGD65Y7fPiwbDab5syZ45R6S6Ib3Udz5syRzWbTtm3brrvNu+66S3fddZdzGohcff/997LZbPr+++8LuymSpEmTJslmsxV2M4o8AqCF2Wy2G3oUxi91Zmam5s2bp7vvvlvly5dX6dKlFRISos6dO+uDDz5Qenp6gbcJgDVs2rRJkyZNUlJSUmE3pVBlfw+3atVKgYGBKlu2rGrXrq0HH3xQmzdvLuzmIZ/cC7sBKDwff/yxw/N58+Zp9erVOZbXq1evIJulCxcuqHfv3lq5cqXatGmj8ePHKzQ0VGfOnNG6des0fPhwbdmyRf/+978LtF23Yv/+/XJz4+8sSFWqVNGFCxdUunTpwm6KpaxateqmX7Np0yZNnjxZgwcPVkBAgPMbVUyMHj1a77//vnr27KmBAwfK3d1d+/fv1/Lly1W9enW1bt1aknTnnXfqwoUL8vDwKOQW42YQAC3sr3/9q8PzzZs3a/Xq1TmWF7SxY8dq5cqVmj59up544gmHdU8++aQOHjyo1atXF1Lrbo6np2dhN+GmnD9/Xt7e3oXdjBLJZrPJy8ursJvhEsYYpaWlqUyZMoXdlByKYyhJTU2Vj49PobYhMTFRM2bM0COPPKIPPvjAYd306dP1+++/25+7ubmV2M92SUbXBPLUp08fNWvWzGFZ9+7dZbPZtHTpUvuyLVu2yGazafny5fZlv/76q/r166fAwEB5e3urdevW+uabb65b57Fjx/Svf/1LXbp0yRH+stWqVUvDhw93WPbmm2+qTZs2CgoKUpkyZdS8eXMtXLjQocy1xhddPWbt7NmzGjNmjKpWrSpPT0+FhITo7rvv1n//+197mYMHD6pv374KCwuTl5eXKlasqP79+ys5Odle5uoxgGfOnNH48ePVsGFD+fr6ys/PT127dtXOnTsd2pM9puaLL77QK6+8oooVK8rLy0udOnXSL7/84lD2RtqRm+yxa9u3b9edd94pb29v/e1vf5Mkpaen64UXXlDNmjXl6empSpUq6emnn85x6j09PV1jx45VcHCwypYtqx49eui3337LUVdeY+7yGqvzn//8Ry1btpS3t7fKlSunO++8M0dPzvLly9WuXTv5+PiobNmyuueee/S///0vx7aWLFmiBg0ayMvLSw0aNNDixYuvuV+utnz5crVv315ly5aVn5+f7rjjDn366ac5yu3du1cdOnSQt7e3brvtNk2dOtVh/c2MAbyRY5rXvr/6s3wz+3727Nnq2LGjQkJC5Onpqfr162vmzJk5Xlu1alXde++9WrlypVq0aKEyZcron//8pyQpKSlJY8aMUaVKleTp6amaNWvq9ddfV2ZmpsM2kpKSNHjwYPn7+ysgIEAxMTE3fco1PT1d48aNU3BwsHx8fNS7d2+HYCLlPgbw3Xff1e23327/fLVo0cJ+TCdNmqSnnnpKklStWjX7UJjDhw9Lki5fvqyXXnpJNWrUkKenp6pWraq//e1vOX43MjMzNWnSJIWHh8vb21sdOnTQ3r17c3wnZI9nzD67ERISoooVK0qSjhw5ouHDh6tOnToqU6aMgoKC1K9fP3tbrt7Ghg0bNHr0aAUHBysgIECPPvqoLl68qKSkJD344IMqV66cypUrp6efflrGmGvu2/j4eBljFBkZmWOdzWZTSEiI/XleYwDff/99Va9eXWXKlFHLli21fv36HMfjZr7r1q9fr379+qly5cr276WxY8fqwoUL13wvyB09gMhTu3bt9NVXXyklJUV+fn4yxmjjxo1yc3PT+vXr1aNHD0lZv5Rubm72L4rExES1adNG58+f1+jRoxUUFKS5c+eqR48eWrhwoXr37p1nncuXL1dGRsZN90K+/fbb6tGjhwYOHKiLFy/qs88+U79+/fT111/rnnvuuen3/thjj2nhwoUaOXKk6tevr9OnT2vDhg3at2+fmjVrposXLyo6Olrp6ekaNWqUwsLCdPz4cX399ddKSkqSv79/rtv99ddftWTJEvXr10/VqlVTYmKi/vnPf6p9+/bau3evwsPDHcq/9tprcnNz0/jx45WcnKypU6dq4MCB2rJliyTdcjuynT59Wl27dlX//v3117/+VaGhocrMzFSPHj20YcMGDRs2TPXq1dPu3bs1bdo0HThwQEuWLLG//uGHH9Z//vMfPfDAA2rTpo3WrFlzS/v7SpMnT9akSZPUpk0bvfjii/Lw8NCWLVu0Zs0ade7cWVLW8IWYmBhFR0fr9ddf1/nz5zVz5ky1bdtWP/30kz3wrFq1Sn379lX9+vU1ZcoUnT59WkOGDLH/B3s9c+bM0dChQ3X77bdrwoQJCggI0E8//aQVK1bogQcesJf7888/1aVLF/Xp00f333+/Fi5cqGeeeUYNGzZU165db+r93+gxdcW+nzlzpm6//Xb16NFD7u7uWrZsmYYPH67MzEyNGDHCoez+/fs1YMAAPfroo3rkkUdUp04dnT9/Xu3bt9fx48f16KOPqnLlytq0aZMmTJigkydPavr06ZKyegx79uypDRs26LHHHlO9evW0ePFixcTE3FR7R40apXLlyumFF17Q4cOHNX36dI0cOVKff/55nq/58MMPNXr0aN1333164oknlJaWpl27dmnLli164IEH1KdPHx04cEDz58/XtGnTVL58eUlScHCwpKz9PnfuXN1333168skntWXLFk2ZMkX79u1z+ONiwoQJmjp1qrp3767o6Gjt3LlT0dHRSktLy7Vdw4cPV3BwsCZOnKjU1FRJ0tatW7Vp0yb1799fFStW1OHDhzVz5kzddddd2rt3b47e+uzPy+TJk7V582Z98MEHCggI0KZNm1S5cmW9+uqr+vbbb/XGG2+oQYMGevDBB/PcT1WqVJEkLViwQP369bvpMwMzZ87UyJEj1a5dO40dO1aHDx9Wr169VK5cuVx//673XZfdlvPnz+vxxx9XUFCQfvzxR7377rv67bfftGDBgptqHyQZ4P8bMWKEufIjsXXrViPJfPvtt8YYY3bt2mUkmX79+plWrVrZy/Xo0cM0bdrU/nzMmDFGklm/fr192dmzZ021atVM1apVTUZGRp5tGDt2rJFkduzY4bA8PT3d/P777/bHH3/84bD+/PnzDs8vXrxoGjRoYDp27GhfFh8fbySZ2bNn56hXknnhhRfsz/39/c2IESPybOdPP/1kJJkFCxbkWcYYY6pUqWJiYmLsz9PS0nK8//j4eOPp6WlefPFF+7K1a9caSaZevXomPT3dvvztt982kszu3btvqh25ad++vZFkZs2a5bD8448/Nm5ubg7HzxhjZs2aZSSZjRs3GmOM2bFjh5Fkhg8f7lDugQceyLE/Y2JiTJUqVXK04YUXXnD4zB08eNC4ubmZ3r1759hPmZmZxpisz1JAQIB55JFHHNYnJCQYf39/h+VNmjQxFSpUMElJSfZlq1atMpJybc+VkpKSTNmyZU2rVq3MhQsXcm2LMf+3H+fNm2dflp6ebsLCwkzfvn3ty671+bvSjRxTV+x7Y3L+HhljTHR0tKlevbrDsipVqhhJZsWKFQ7LX3rpJePj42MOHDjgsPzZZ581pUqVMkePHjXGGLNkyRIjyUydOtVe5vLly6Zdu3Y3tI9mz55tJJmoqCiHYzF27FhTqlQph+Pdvn170759e/vznj17mttvv/2a23/jjTeMJBMfH++wPHu/P/zwww7Lx48fbySZNWvWGGOyPovu7u6mV69eDuUmTZpkJDl8J2S/l7Zt25rLly87lM/teMTFxeX4vGVvIzo62mF/REREGJvNZh577DH7ssuXL5uKFSs67JO8PPjgg0aSKVeunOndu7d58803zb59+3KUy/6+Wrt2rTEm6/MfFBRk7rjjDnPp0iV7uTlz5hhJDnXf6HddXvtjypQpxmazmSNHjtiX5fbZRk6cAkaemjZtKl9fX/3www+Ssnr6KlasqAcffFD//e9/df78eRljtGHDBrVr187+um+//VYtW7ZU27Zt7ct8fX01bNgwHT58WHv37s2zzpSUFHv5K3377bcKDg62P7L/Os125dijP//8U8nJyWrXrp3DKdubERAQoC1btujEiRO5rs/uhVm5cqXOnz9/w9v19PS0XxSSkZGh06dPy9fXV3Xq1Mm1rUOGDHEYw5S9n3/99dd8tePK9gwZMsRh2YIFC1SvXj3VrVtXf/zxh/3RsWNHSdLatWslZR0TKWug+JXGjBlz0+3ItmTJEmVmZmrixIk5Lp7JPl25evVqJSUlacCAAQ7tK1WqlFq1amVv38mTJ7Vjxw7FxMQ49ITefffdql+//nXbsnr1ap09e1bPPvtsjvFNV5869fX1dei19vDwUMuWLe3H6WbcyDF1xb6XHH+PkpOT9ccff6h9+/b69ddfcwwpqFatmqKjox2WLViwQO3atVO5cuUcjk1UVJQyMjLs3yXffvut3N3d9fjjj9tfW6pUKY0aNeqm2jts2DCHY9GuXTtlZGToyJEjeb4mICBAv/32m7Zu3XpTdWW3W5LGjRvnsPzJJ5+UJPswl9jYWF2+fDnHUJVrvb9HHnlEpUqVclh25fG4dOmSTp8+rZo1ayogICDX74uHHnrIYX+0atVKxhg99NBD9mWlSpVSixYtbuizOXv2bL333nuqVq2aFi9erPHjx6tevXrq1KmTjh8/nufrtm3bptOnT+uRRx6Ru/v/nWgcOHCgypUrl+trrvddJznuj9TUVP3xxx9q06aNjDH66aefrvt+4IgAiDyVKlVKERERWr9+vaSsANiuXTu1bdtWGRkZ2rx5s/bu3aszZ844BMAjR46oTp06ObaXfTXxtb6cy5YtK0k6d+6cw/LIyEitXr1aq1evtp8GvNLXX3+t1q1by8vLS4GBgQoODtbMmTOvOw4uL1OnTtWePXtUqVIltWzZUpMmTXL4IqpWrZrGjRunf/3rXypfvryio6P1/vvvX7e+zMxMTZs2TbVq1ZKnp6fKly+v4OBg7dq1K9fXVq5c2eF59pfnn3/+ma92ZLvttttyDJI/ePCg/ve//zkE7uDgYNWuXVuSdOrUKUlZx9HNzU01atRweH1ux/5GHTp0SG5ubtcMaAcPHpQkdezYMUcbV61a5dA+KWvM6NVupI2HDh2SpBua469ixYo5QmG5cuXsxyk3Fy5cUEJCgsNDurFj6op9L0kbN25UVFSUfHx8FBAQoODgYPu40NwC4NUOHjyoFStW5DguUVFRkhw/OxUqVMjxh97Ntv96vx+5eeaZZ+Tr66uWLVuqVq1aGjFihDZu3HhD9WXv95o1azosDwsLU0BAgP0zl/3v1eUCAwPzDEC57c8LFy5o4sSJ9vGU2d8XSUlJN/R9kf3HRKVKlXIsv9Y+yubm5qYRI0Zo+/bt+uOPP/TVV1+pa9euWrNmjfr375/n6/J6/+7u7nnOv3kjx/Lo0aMaPHiwAgMD5evrq+DgYLVv315Szs8nro8xgLimtm3b6pVXXlFaWprWr1+v5557TgEBAWrQoIHWr1+v0NBQSXIIgPlRt25dSdKePXvUuHFj+/Ir/xP5z3/+4/Ca7PGId955p2bMmKEKFSqodOnSmj17tsNg/bwmBs3IyMix7P7771e7du20ePFirVq1Sm+88YZef/11ffnll/YxXf/4xz80ePBgffXVV1q1apVGjx6tKVOmaPPmzXmOMXv11Vf1/PPPa+jQoXrppZcUGBgoNzc3jRkzJscgeUk5egSymSsGcN9KO7LldtVmZmamGjZsqLfeeivX11z9n8mNuJl9fz3Z++njjz9WWFhYjvVX9jgUlBs5Tlf7/PPPc/S+ZpfPzzG92o3u+0OHDqlTp06qW7eu3nrrLVWqVEkeHh769ttvNW3atByfz7w+O3fffbeefvrpXOvM/iPCWW5lv9erV0/79+/X119/rRUrVmjRokWaMWOGJk6cqMmTJ99Qva6YZDi3/Tlq1CjNnj1bY8aMUUREhPz9/WWz2dS/f/+b+r7Ibfm19lFugoKC1KNHD/Xo0UN33XWX1q1bpyNHjuQ4G3OrrncsMzIydPfdd+vMmTN65plnVLduXfn4+Oj48eMaPHhwrvsD10YAxDW1a9dOFy9e1Pz583X8+HF70LvzzjvtAbB27dr2IChlDR7ev39/jm39/PPP9vV56dq1q0qVKqVPPvlEAwcOvKE2Llq0SF5eXlq5cqXDtCuzZ892KJf9F+XVVxrm1SNZoUIFDR8+XMOHD9epU6fUrFkzvfLKKw6D+hs2bKiGDRvq73//uzZt2qTIyEjNmjVLL7/8cq7bXLhwoTp06JBjDsOkpCT7YPNbcbPtuJYaNWpo586d6tSp0zX/o6tSpYoyMzN16NAhh56b3I59uXLlcr3C8+p9X6NGDWVmZmrv3r1q0qRJnu2TpJCQEPsfBXm1T/q/HsMr5dbGvOrZs2dPjp4MZ4iOjr7mdEbXOqau2PfLli1Tenq6li5d6tAbk31K/UbUqFFD586du+ZxkbKOTWxsrM6dO+fQC3gjx8UZfHx89Je//EV/+ctfdPHiRfXp00evvPKKJkyYIC8vrzw/99n7/eDBgw7zoyYmJiopKcn+mcv+95dffnHo2Tt9+vQN9bxlW7hwoWJiYvSPf/zDviwtLa3QJ6hu0aKF1q1bp5MnT+b6fX7l++/QoYN9+eXLl3X48GE1atTopuvcvXu3Dhw4oLlz5zpcvFJcpgQrijgFjGtq1aqVSpcurddff12BgYG6/fbbJWUFw82bN2vdunU5ev+6deumH3/8UXFxcfZlqamp+uCDD1S1atVrnt6rXLmyhg4dquXLl+u9997LtczVf7mWKlVKNpvNoUfj8OHDDlerSpKfn5/Kly9vH4eUbcaMGQ7PMzIycpxOCAkJUXh4uH2qh5SUFF2+fNmhTMOGDeXm5nbNu5SUKlUqR/sXLFhwzfE013Kr7biW+++/X8ePH9eHH36YY92FCxfsVyhmB+F33nnHoUz2lZ5XqlGjhpKTk7Vr1y77spMnT+aYkqVXr15yc3PTiy++mOMv+uz9Fh0dLT8/P7366qu6dOlSjrqypwGpUKGCmjRporlz5zocz9WrV19zHGq2zp07q2zZspoyZUqOKzdvtvckNxUqVFBUVJTDQ7qxY+qKfZ/dA3Ple0tOTs7xh9S13H///YqLi9PKlStzrEtKSrK/r27duuny5csOU8xkZGTo3XffveG6btXp06cdnnt4eKh+/foyxtg/T9lz8F0dtLp16yYp537O7i3Pvgq7U6dOcnd3zzGFTl7faXnJ7fvi3XffvaWe85uVkJCQ6+/JxYsXFRsbm+up8GwtWrRQUFCQPvzwQ4fP8ieffHJTAfhKuX0+jTF6++23b2l7oAcQ1+Ht7a3mzZtr8+bN9jkApawewNTUVKWmpuYIgM8++6zmz5+vrl27avTo0QoMDNTcuXMVHx+vRYsWXffOGNOnT1d8fLxGjRqlzz77TN27d1dISIj++OMPbdy4UcuWLXPo9bjnnnv01ltvqUuXLnrggQd06tQpvf/++6pZs6bDf3pS1hQOr732mh5++GG1aNFCP/zwgw4cOOBQ5uzZs6pYsaLuu+8+NW7cWL6+vvruu++0detW+1/ia9as0ciRI9WvXz/Vrl1bly9f1scff6xSpUqpb9++eb63e++9Vy+++KKGDBmiNm3aaPfu3frkk09UvXr16x+MXNxqO65l0KBB+uKLL/TYY49p7dq1ioyMVEZGhn7++Wd98cUX9rnfmjRpogEDBmjGjBlKTk5WmzZtFBsbm2PuLknq37+/nnnmGfXu3VujR4+2T9tSu3Zth8HsNWvW1HPPPaeXXnpJ7dq1U58+feTp6amtW7cqPDxcU6ZMkZ+fn2bOnKlBgwapWbNm6t+/v4KDg3X06FF98803ioyMtP9HO2XKFN1zzz1q27athg4dqjNnztjngLt6nOnV/Pz8NG3aND388MO644479MADD6hcuXLauXOnzp8/r7lz597S/r2eGzmmrtj3nTt3loeHh7p3765HH31U586d04cffqiQkBCdPHnyhtr+1FNPaenSpbr33ns1ePBgNW/eXKmpqdq9e7cWLlyow4cPq3z58urevbsiIyP17LPP6vDhw6pfv76+/PLLAhnH1blzZ4WFhSkyMlKhoaHat2+f3nvvPd1zzz32McjNmzeXJD333HPq37+/Spcure7du6tx48aKiYnRBx98oKSkJLVv314//vij5s6dq169etl7u0JDQ/XEE0/oH//4h3r06KEuXbpo586dWr58ucqXL3/Dp5Dvvfdeffzxx/L391f9+vUVFxen7777TkFBQa7ZOVf47bff1LJlS3Xs2FGdOnVSWFiYTp06pfnz52vnzp0aM2ZMnmctPDw8NGnSJI0aNUodO3bU/fffr8OHD2vOnDmqUaPGLZ1Cr1u3rmrUqKHx48fr+PHj8vPz06JFi245UEJcJ43/c/U0MNmeeuopI8m8/vrrDstr1qxpJJlDhw7leM2hQ4fMfffdZwICAoyXl5dp2bKl+frrr2+4LZcvXzazZ882HTt2NIGBgcbd3d2UL1/edOrUycyaNSvHtBz//ve/Ta1atYynp6epW7eumT17dp7TXDz00EPG39/flC1b1tx///3m1KlTDlNnpKenm6eeeso0btzYlC1b1vj4+JjGjRubGTNm2Lfz66+/mqFDh5oaNWoYLy8vExgYaDp06GC+++47h/pymwbmySefNBUqVDBlypQxkZGRJi4uLsdUFdlTI1w9FcjVU4ncaDty0759+zynw7h48aJ5/fXXze233248PT1NuXLlTPPmzc3kyZNNcnKyvdyFCxfM6NGjTVBQkPHx8THdu3c3x44dyzEViTFZ0680aNDAeHh4mDp16pj//Oc/eU7X8NFHH5mmTZva627fvr1ZvXq1Q5m1a9ea6Oho4+/vb7y8vEyNGjXM4MGDzbZt2xzKLVq0yNSrV894enqa+vXrmy+//DLPqVFys3TpUtOmTRtTpkwZ4+fnZ1q2bGnmz59/3f14dR03Og3MjR5TV+z7pUuXmkaNGhkvLy9TtWpV8/rrr5uPPvoox5QoVapUMffcc0+u7T979qyZMGGCqVmzpvHw8DDly5c3bdq0MW+++aa5ePGivdzp06fNoEGDjJ+fn/H39zeDBg2yT4Fzo9PAbN261WH51dORGJNzGph//vOf5s477zRBQUHG09PT1KhRwzz11FMOn2tjsqa0ue2224ybm5vD+7906ZKZPHmyqVatmildurSpVKmSmTBhgklLS3N4/eXLl83zzz9vwsLCTJkyZUzHjh3Nvn37TFBQkMO0LHm9F2OM+fPPP82QIUNM+fLlja+vr4mOjjY///xzju+VvLaRfYx///13h+UxMTHGx8cnz/1rjDEpKSnm7bffNtHR0aZixYqmdOnSpmzZsiYiIsJ8+OGHDtPN5LbfjTHmnXfeMVWqVDGenp6mZcuWZuPGjaZ58+amS5cuOV57ve86Y4zZu3eviYqKMr6+vqZ8+fLmkUceMTt37sxRjmlgbozNGCecywAAFAk2m00vvPCCw91AUDQkJSWpXLlyevnll/Xcc88VdnMKXGZmpoKDg9WnT59ch5igYDEGEAAAJ8vt9mTZYwevvjVdSZSWlpZj/OK8efN05swZS7z/4oAxgAAAONnnn3+uOXPmqFu3bvL19dWGDRs0f/58de7cOdf765Y0mzdv1tixY9WvXz8FBQXpv//9r/7973+rQYMG6tevX2E3DyIAAgDgdI0aNZK7u7umTp2qlJQU+4UhtzI1U3FUtWpVVapUSe+8847OnDmjwMBAPfjgg3rttddyTD6PwsEYQAAAAIthDCAAAIDFEAABAAAshjGAecjMzNSJEydUtmxZl9z3EQAA4FYZY3T27FmFh4df9wYLuSEA5uHEiRO3dNN7AACAgnLs2DFVrFjxpl9HAMxD9i2Bjh07Jj8/v0JuDQAAwP9JSUlRpUqV7HnlZhEA85B92tfPz48ACAAAiqRbHabGRSAAAAAWQwAEAACwGAIgAACAxRAAAQAALIYACAAAYDEEQAAAAIshAAIAAFgMARAAAMBiCIAAAAAWQwAEAACwGAIgAACAxRAAAQAALIYACAAAYDHuhd2AEsMY6fz5gqnL21uy2QqmLgAAUOIQAJ3BGKltW2nTpoKpLzJSWr+eEAgAAG4Jp4Cd4fz5ggt/krRxY8H1NgIAgBKHHkBnS0yUfHxcs+3UVCk01DXbBgAAlkEAdDYfH9cFQAAAACfgFDAAAIDFEAABAAAshgAIAABgMQRAAAAAiyEAAgAAWAwBEAAAwGIIgAAAABZDAAQAALAYAiAAAIDFEAABAAAshgAIAABgMUUuAE6ZMkV33HGHypYtq5CQEPXq1Uv79+93KGOM0cSJE1WhQgWVKVNGUVFROnjwoEOZtLQ0jRgxQkFBQfL19VXfvn2VmJhYkG8FAACgSCpyAXDdunUaMWKENm/erNWrV+vSpUvq3LmzUlNT7WWmTp2qd955R7NmzdKWLVvk4+Oj6OhopaWl2cuMHTtWy5Yt04IFC7Ru3TqdOHFCffr0KYy3BAAAUKTYjDGmsBtxLb///rtCQkK0bt063XnnnTLGKDw8XE8++aTGjx8vSUpOTlZoaKjmzJmj/v37Kzk5WcHBwfr000913333SZJ+/vln1atXT3FxcWrduvV1601JSZG/v7+Sk5Pl5+d37cKpqZKvb9bP585JPj75es+FXg8AACjSbiqn5KLI9QBeLTk5WZIUGBgoSYqPj1dCQoKioqLsZfz9/dWqVSvFxcVJkrZv365Lly45lKlbt64qV65sL3O19PR0paSkODwAAABKoiIdADMzMzVmzBhFRkaqQYMGkqSEhARJUmhoqEPZ0NBQ+7qEhAR5eHgoICAgzzJXmzJlivz9/e2PSpUqOfndAAAAFA1FOgCOGDFCe/bs0WeffebyuiZMmKDk5GT749ixYy6vEwAAoDAU2QA4cuRIff3111q7dq0qVqxoXx4WFiZJOa7oTUxMtK8LCwvTxYsXlZSUlGeZq3l6esrPz8/hAQAAUBIVuQBojNHIkSO1ePFirVmzRtWqVXNYX61aNYWFhSk2Nta+LCUlRVu2bFFERIQkqXnz5ipdurRDmf379+vo0aP2MgAAAFblXtgNuNqIESP06aef6quvvlLZsmXtY/b8/f1VpkwZ2Ww2jRkzRi+//LJq1aqlatWq6fnnn1d4eLh69eplL/vQQw9p3LhxCgwMlJ+fn0aNGqWIiIgbugIYAACgJCtyAXDmzJmSpLvuusth+ezZszV48GBJ0tNPP63U1FQNGzZMSUlJatu2rVasWCEvLy97+WnTpsnNzU19+/ZVenq6oqOjNWPGjIJ6GwAAAEVWkZ8HsLAwDyAAACiqSvw8gAAAAHAuAiAAAIDFEAABAAAshgAIAABgMQRAAAAAiyEAAgAAWAwBEAAAwGIIgAAAABZDAAQAALAYAiAAAIDFEAABAAAshgAIAABgMQRAAAAAiyEAAgAAWAwBEAAAwGIIgAAAABZDAAQAALAYAiAAAIDFEAABAAAshgAIAABgMQRAAAAAiyEAAgAAWAwBEAAAwGIIgAAAABZDAAQAALAYAiAAAIDFEAABAAAshgAIAABgMQRAAAAAiyEAAgAAWAwBEAAAwGIIgAAAABZDAAQAALAYAiAAAIDFEAABAAAshgAIAABgMQRAAAAAiyEAAgAAWAwBEAAAwGIIgAAAABZDAAQAALAYAiAAAIDFEAABAAAshgAIAABgMQRAAAAAiyEAAgAAWAwBEAAAwGIIgAAAABZDAAQAALAYAiAAAIDFEAABAAAshgAIAABgMQRAAAAAiyEAAgAAWAwBEAAAwGIIgAAAABZDAAQAALAYAiAAAIDFEAABAAAshgAIAABgMQRAAAAAiyEAAgAAWAwBEAAAwGIIgAAAABZDAAQAALAYAiAAAIDFEAABAAAshgAIAABgMQRAAAAAiyEAAgAAWAwBEAAAwGIIgAAAABZT5ALgDz/8oO7duys8PFw2m01LlixxWD948GDZbDaHR5cuXRzKpKWlacSIEQoKCpKvr6/69u2rxMTEAnwXAAAARVeRC4Cpqalq3Lix3n///TzLdOnSRSdPnrQ/5s+f77B+7NixWrZsmRYsWKB169bpxIkT6tOnj6ubDgAAUCy4F3YDrta1a1d17dr1mmU8PT0VFhaW67rk5GT9+9//1qeffqqOHTtKkmbPnq169epp8+bNat26tdPbDAAAUJwUuR7AG/H9998rJCREderU0eOPP67Tp0/b123fvl2XLl1SVFSUfVndunVVuXJlxcXF5bnN9PR0paSkODwAAABKomIXALt06aJ58+YpNjZWr7/+utatW6euXbsqIyNDkpSQkCAPDw8FBAQ4vC40NFQJCQl5bnfKlCny9/e3PypVquTKtwEAAFBoitwp4Ovp37+//eeGDRuqUaNGqlGjhr7//nt16tTplrc7YcIEjRs3zv48JSWFEAgAAEqkYtcDeLXq1aurfPny+uWXXyRJYWFhunjxopKSkhzKJSYm5jluUMoaV+jn5+fwAAAAKImKfQD87bffdPr0aVWoUEGS1Lx5c5UuXVqxsbH2Mvv379fRo0cVERFRWM0EAAAoMorcKeBz587Ze/MkKT4+Xjt27FBgYKACAwM1efJk9e3bV2FhYTp06JCefvpp1axZU9HR0ZIkf39/PfTQQxo3bpwCAwPl5+enUaNGKSIigiuAAQAAVAQD4LZt29ShQwf78+xxeTExMZo5c6Z27dqluXPnKikpSeHh4ercubNeeukleXp62l8zbdo0ubm5qW/fvkpPT1d0dLRmzJhR4O8FAACgKLIZY0xhN6IoSklJkb+/v5KTk68/HjA1VfL1zfr53DnJx8c1jSqoegAAQJF2UzklF8V+DCAAAABuDgEQAADAYgiAAAAAFkMABAAAsBgCIAAAgMUQAAEAACyGAAgAAGAxBEAAAACLIQACAABYDAEQAADAYgiAAAAAFkMABAAAsBgCIAAAgMUQAAEAACyGAAgAAGAxBEAAAACLIQACAABYDAEQAADAYgiAAAAAFkMABAAAsBgCIAAAgMW4F3YDirzUVKlUqeuXAQAAKCYIgNcTHl7YLQAAAHAqTgE7U2Sk5O1d2K0AAAC4JnoAr+fECcnP78bKentLNptr2wMAAJBPBMDr8fHJegAAAJQQnAIGAACwGAIgAACAxRAAAQAALIYACAAAYDEEQAAAAIshAAIAAFgMARAAAMBiCIAAAAAWQwAEAACwGAIgAACAxRAAAQAALIYACAAAYDHuhd0AFEHGSOfPu74eb2/JZnN9PQAAwAEBEI6Mkdq2lTZtcn1dkZHS+vWEQAAACpjTTgHHxMTohx9+cNbmUFjOny+Y8CdJGzcWTE8jAABw4LQewOTkZEVFRalKlSoaMmSIYmJidNtttzlr8ygMiYmSj4/zt5uaKoWGOn+7AADghjitB3DJkiU6fvy4Hn/8cX3++eeqWrWqunbtqoULF+rSpUvOqgYFycfHdQ8AAFBonHoVcHBwsMaNG6edO3dqy5YtqlmzpgYNGqTw8HCNHTtWBw8edGZ11paa6roHAAAo0VxyEcjJkye1evVqrV69WqVKlVK3bt20e/du1a9fX1OnTtXYsWNdUa21cAoVAADcIqf1AF66dEmLFi3SvffeqypVqmjBggUaM2aMTpw4oblz5+q7777TF198oRdffNFZVVqPt3fWlbMFITIyqz4AAFDiOK0HsEKFCsrMzNSAAQP0448/qkmTJjnKdOjQQQEBAc6q0npstqxpU5ijDwAA5IPTAuC0adPUr18/eXl55VkmICBA8fHxzqrSmmw2LqIAAAD54rRTwGvXrs31at/U1FQNHTrUWdUAAAAgn5wWAOfOnasLFy7kWH7hwgXNmzfPWdUAAAAgn/J9CjglJUXGGBljdPbsWYdTwBkZGfr2228VEhKS32oAAADgJPkOgAEBAbLZbLLZbKpdu3aO9TabTZMnT85vNQAAAHCSfAfAtWvXyhijjh07atGiRQoMDLSv8/DwUJUqVRQeHp7fagAAAOAk+Q6A7du3lyTFx8ercuXKsjF1CAAAQJGWrwC4a9cuNWjQQG5ubkpOTtbu3bvzLNuoUaP8VAUAAAAnyVcAbNKkiRISEhQSEqImTZrIZrPJGJOjnM1mU0ZGRn6qAgAAgJPkKwDGx8crODjY/jMAAACKvnwFwCpVquT6MwAAAIoup04E/c0339ifP/300woICFCbNm105MgRZ1UDAACAfHJaAHz11VdVpkwZSVJcXJzee+89TZ06VeXLl9fYsWOdVQ0AAADyKd/TwGQ7duyYatasKUlasmSJ7rvvPg0bNkyRkZG66667nFUNAAAA8slpPYC+vr46ffq0JGnVqlW6++67JUleXl653iMYAAAAhcNpPYB33323Hn74YTVt2lQHDhxQt27dJEn/+9//VLVqVWdVAwAAgHxyWg/g+++/r4iICP3+++9atGiRgoKCJEnbt2/XgAEDnFUNAAAA8slmcpu5GUpJSZG/v7+Sk5Pl5+dX2M0pWVJTJV/frJ/PnZN8fAq3PQAAFDP5zSlOOwUsSUlJSfrxxx916tQpZWZm2pfbbDYNGjTImVUBAADgFjktAC5btkwDBw7UuXPn5OfnJ5vNZl9HAAQAACg6nDYG8Mknn9TQoUN17tw5JSUl6c8//7Q/zpw546xqAAAAkE9OC4DHjx/X6NGj5e3t7axNAgAAwAWcFgCjo6O1bds2Z20OAAAALuK0MYD33HOPnnrqKe3du1cNGzZU6dKlHdb36NHDWVUBAAAgH5w2DYybW96diTabTRkZGc6opsAwDYwLMQ0MAAD5kt+c4rRTwJmZmXk+bib8/fDDD+revbvCw8Nls9m0ZMkSh/XGGE2cOFEVKlRQmTJlFBUVpYMHDzqUSUtL04gRIxQUFCRfX1/17dtXiYmJznibAAAAxZ7TAuCV0tLSbvm1qampaty4sd5///1c10+dOlXvvPOOZs2apS1btsjHx0fR0dEOdY4dO1bLli3TggULtG7dOp04cUJ9+vS55TYBAACUJE47BZyRkaFXX31Vs2bNUmJiog4cOKDq1avr+eefV9WqVfXQQw/dfONsNi1evFi9evWSlNX7Fx4erieffFLjx4+XJCUnJys0NFRz5sxR//79lZycrODgYH366ae67777JEk///yz6tWrp7i4OLVu3fqG6uYUsAtxChgAgHwpMqeAX3nlFc2ZM0dTp06Vh4eHfXmDBg30r3/9yyl1xMfHKyEhQVFRUfZl/v7+atWqleLi4iRl3Xv40qVLDmXq1q2rypUr28sAAABYmdMC4Lx58/TBBx9o4MCBKlWqlH1548aN9fPPPzuljoSEBElSaGiow/LQ0FD7uoSEBHl4eCggICDPMrlJT09XSkqKwwMAAKAkcupE0DVr1syxPDMzU5cuXXJWNS4zZcoU+fv72x+VKlUq7CYBAAC4hNMCYP369bV+/focyxcuXKimTZs6pY6wsDBJynFFb2Jion1dWFiYLl68qKSkpDzL5GbChAlKTk62P44dO+aUNgMAABQ1TpsIeuLEiYqJidHx48eVmZmpL7/8Uvv379e8efP09ddfO6WOatWqKSwsTLGxsWrSpImkrEGQW7Zs0eOPPy5Jat68uUqXLq3Y2Fj17dtXkrR//34dPXpUEREReW7b09NTnp6eTmknAABAUea0ANizZ08tW7ZML774onx8fDRx4kQ1a9ZMy5Yt0913333D2zl37px++eUX+/P4+Hjt2LFDgYGBqly5ssaMGaOXX35ZtWrVUrVq1fT8888rPDzcfqWwv7+/HnroIY0bN06BgYHy8/PTqFGjFBERccNXAAMAAJRkTguAktSuXTutXr06X9vYtm2bOnToYH8+btw4SVJMTIzmzJmjp59+WqmpqRo2bJiSkpLUtm1brVixQl5eXvbXTJs2TW5uburbt6/S09MVHR2tGTNm5KtdAAAAJYXT5gGsXr26tm7dqqCgIIflSUlJatasmX799VdnVFNgmAfQhZgHEACAfCky8wAePnw411u+paen6/jx486qBgAAAPmU71PAS5cutf+8cuVK+fv7259nZGQoNjZWVatWzW81AAAAcJJ8B8Dsiy9sNptiYmIc1pUuXVpVq1bVP/7xj/xWAwAAACfJdwDMzMyUlDVFy9atW1W+fPl8NwoAAACu47SrgOPj4521KQAAALiQU6eBiY2NVWxsrE6dOmXvGcz20UcfObMqAAAA3CKnBcDJkyfrxRdfVIsWLVShQgXZbDZnbRoAAABO5LQAOGvWLM2ZM0eDBg1y1iYBAADgAk6bB/DixYtq06aNszYHAAAAF3FaAHz44Yf16aefOmtzAAAAcBGnnQJOS0vTBx98oO+++06NGjVS6dKlHda/9dZbzqoKAAAA+eC0ALhr1y41adJEkrRnzx5nbRYAAABO5rQAuHbtWmdtCgAAAC6U7wDYp0+f65ax2WxatGhRfqsCAACAE+Q7APr7+zujHQAAACgg+Q6As2fPdkY7YFWpqa7dvre3xKTkAAA4cOqt4ICbFhrq2u1HRkrr1xMCAQC4gtPmAQRumLd3VjArCBs3SufPF0xdAAAUE/QAouDZbFm9cq4MZqmpru9dBACgmCIAonDYbJKPT2G3AgAAS+IUMAAAgMUQAAEAACyGAAgAAGAxBEAAAACLIQACAABYDAEQAADAYgiAAAAAFkMABAAAsBgCIAAAgMUQAAEAACyGAAgAAGAxBEAAAACLIQACAABYDAEQAADAYgiAAAAAFkMABAAAsBgCIAAAgMUQAAEAACyGAAgAAGAxBEAAAACLIQACAABYDAEQAADAYgiAAAAAFkMABAAAsBgCIAAAgMUQAAEAACyGAAgAAGAxBEAAAACLIQACAABYDAEQAADAYtwLuwGAy6Wmunb73t6SzebaOgAAcCICIEq+0FDXbj8yUlq/nhAIACg2OAWMksnbOyuYFYSNG6Xz5wumLgAAnIAeQJRMNltWr5wrg1lqqut7FwEAcAECIEoum03y8SnsVgAAUORwChgAAMBiCIAAAAAWQwAEAACwGAIgAACAxRAAAQAALIYACAAAYDEEQAAAAIshAAIAAFgMARAAAMBiCIAAAAAWQwAEAACwGAIgAACAxRAAAQAALIYACAAAYDEEQAAAAIshAAIAAFgMARAAAMBiil0AnDRpkmw2m8Ojbt269vXGGE2cOFEVKlRQmTJlFBUVpYMHDxZiiwEAAIqWYhcAJen222/XyZMn7Y8NGzbY102dOlXvvPOOZs2apS1btsjHx0fR0dFKS0srxBYDAAAUHe6F3YBb4e7urrCwsBzLjTGaPn26/v73v6tnz56SpHnz5ik0NFRLlixR//79C7qpAAAARU6x7AE8ePCgwsPDVb16dQ0cOFBHjx6VJMXHxyshIUFRUVH2sv7+/mrVqpXi4uIKq7kAAABFSrHrAWzVqpXmzJmjOnXq6OTJk5o8ebLatWunPXv2KCEhQZIUGhrq8JrQ0FD7urykp6crPT3d/jwlJcX5jQcAACgCil0A7Nq1q/3nRo0aqVWrVqpSpYq++OIL1atX75a3O2XKFE2ePNkZTQQAACjSiuUp4CsFBASodu3a+uWXX+zjAhMTEx3KJCYm5jpm8EoTJkxQcnKy/XHs2DGXtRkAAKAwFfsAeO7cOR06dEgVKlRQtWrVFBYWptjYWPv6lJQUbdmyRREREdfcjqenp/z8/BweAAAAJVGxC4Djx4/XunXrdPjwYW3atEm9e/dWqVKlNGDAANlsNo0ZM0Yvv/yyli5dqt27d+vBBx9UeHi4evXqVdhNBwAAKBKK3RjA3377TQMGDNDp06cVHBystm3bavPmzQoODpYkPf3000pNTdWwYcOUlJSktm3basWKFfLy8irklgMAABQNNmOMKexGFEUpKSny9/dXcnIyp4ORu9RUydc36+dz5yQfn8JtDwDAMvKbU4rdKWAAAADkDwEQAADAYgiAAAAAFlPsLgIBiqTUVNfX4e0t2WyurwcAUOIRAAFnuOr2gy4RGSmtX08IBADkG6eAgVvl7Z0VygrKxo3S+fMFVx8AoMSiBxC4VTZbVo+cq0NZamrB9DACACyDAAjkh83G/H8AgGKHU8AAAAAWQwAEAACwGAIgAACAxRAAAQAALIYACAAAYDEEQAAAAIshAAIAAFgMARAAAMBiCIAAAAAWQwAEAACwGG4FByCLMa6/r7EkeXtn3UIPAFBoCIAAssJf27bSpk2urysyUlq/nhAIAIWIAAggq+evIMKfJG3cKP3+u+Tj47o66GUEgGsiAAJwlJjomnCWmiqFhmb9nP2vq9DLCADXRAAE4MjHxzUB0Ns7K5ht3Oj8bV9t48asXk1X9jICQDFGAARQMGy2rF45V15ocmUvIwAgTwRAAAXHZqNXDgCKAOYBBAAAsBgCIAAAgMUQAAEAACyGMYAAcLMK6q4pEnMaAnAJAiAA3IyCvGuKxJyGAFyCU8AAcDMK8q4p0v/NaQgATkQPIADcKlfdNUViTkMALkUABIBb5aq7plwtNdW122ecIWA5BEAAKOq4dzIAJ2MMIAAURdn3Ti4IjDMELIceQAAoirh3MgAXIgACQFHFvZMBuAingAEAACyGHkCgOHHV1aCuvsoUAFCkEACB4oTxWgAAJyAAAkVd9tWgGze6vq7IyKz6AORUUPeAZl5GFAACIFDUFcTVoNn4jwfIXUHeA5p5GVEACIBAccDVoEDhKsh7QGfPy8jvPFyIAAgAwM1w1T2gmZcRBYgACADAzSioe0ADLsQ8gAAAABZDAAQAALAYTgEDKJmYNBsA8kQABFAyMZgeAPLEKWAAJUf2pNkFgUmzARRj9AACKDmYNLto4g4aQJFDAARQsjBpdtHCHTSAIokACABwnYK+g8bvv7tukmagBCEAAgAKRkHcQaOkXPxTEIGTU+aWRgAEABQMV91BI/vin40bnb/tqxXUxT8FEWQ5ZW5pBEAAQPFWUi7+KcggK2XVc/48Y2YtigAIACj+SsLFPwUVZK88ZQ7LIgACALhzSlFREoIsigUCIACAHiHAYrgTCABYFXdOASyLHkAAsKqScvEEgJtGAAQAK2PMGWBJnAIGAACwGAIgAACAxRAAAQAALIYACAAAYDEEQAAAAIshAAIAAFgM08AAAGBVrr5Vn6vnfzSGeSxvEQEQAACrcvUtACMjsyYbd0V4MkZq21batMn5276aK99HIeEUMAAAVlKQtwDcuNF1PXTnzxdM+JNc+z4KCT2AAABYSUHcAjA11fW9i1dKTHTNHW0K+n0UoBIdAN9//3298cYbSkhIUOPGjfXuu++qZcuWhd0sAAAKV0HeAtBV4wyv3K6PD7c0vEklNgB+/vnnGjdunGbNmqVWrVpp+vTpio6O1v79+xUSElLYzQMAwBpKSg+aqy+YuVn5bI/NGGOc1JQipVWrVrrjjjv03nvvSZIyMzNVqVIljRo1Ss8+++x1X5+SkiJ/f38lJyfLz8/P1c0FAKDkMEZq1y5r7JyrufICjdRUydfX+dt1ghRJ/tIt55QS2QN48eJFbd++XRMmTLAvc3NzU1RUlOLi4gqxZQAAWEBBjDPM5sopWrIvmCmIIFvASmQA/OOPP5SRkaHQq7qdQ0ND9fPPP+f6mvT0dKWnp9ufp6SkuLSNAACUaAU5ztBVCjLI3qyUFCk8/JZfXiID4K2YMmWKJk+eXNjNAAAARUlRDbIZGfl6eYmcB7B8+fIqVaqUEhMTHZYnJiYqLCws19dMmDBBycnJ9sexY8cKoqkAAAAFrkQGQA8PDzVv3lyxsbH2ZZmZmYqNjVVERESur/H09JSfn5/DAwAAoCQqsaeAx40bp5iYGLVo0UItW7bU9OnTlZqaqiFDhhR20wAAAApViQ2Af/nLX/T7779r4sSJSkhIUJMmTbRixYocF4YAAABYTYmdBzC/mAcQAAAUVfnNKSVyDCAAAADyRgAEAACwGAIgAACAxRAAAQAALIYACAAAYDEEQAAAAIshAAIAAFgMARAAAMBiCIAAAAAWU2JvBZdf2TdISUlJKeSWAAAAOMrOJ7d6QzcCYB7Onj0rSapUqVIhtwQAACB3Z8+elb+//02/jnsB5yEzM1MnTpxQ2bJlZbPZCrs5uAEpKSmqVKmSjh07xv2bizmOZcnAcSw5OJZFjzFGZ8+eVXh4uNzcbn5EHz2AeXBzc1PFihULuxm4BX5+fnxBlRAcy5KB41hycCyLllvp+cvGRSAAAAAWQwAEAACwGAIgSgxPT0+98MIL8vT0LOymIJ84liUDx7Hk4FiWPFwEAgAAYDH0AAIAAFgMARAAAMBiCIAAAAAWQwBEkfLDDz+oe/fuCg8Pl81m05IlSxzWG2M0ceJEVahQQWXKlFFUVJQOHjzoUCYtLU0jRoxQUFCQfH191bdvXyUmJjqUOXPmjAYOHCg/Pz8FBATooYce0rlz51z99ixjypQpuuOOO1S2bFmFhISoV69e2r9/v0MZjmXxMHPmTDVq1Mg+/1tERISWL19uX89xLJ5ee+012Ww2jRkzxr6MY2kxBihCvv32W/Pcc8+ZL7/80kgyixcvdlj/2muvGX9/f7NkyRKzc+dO06NHD1OtWjVz4cIFe5nHHnvMVKpUycTGxppt27aZ1q1bmzZt2jhsp0uXLqZx48Zm8+bNZv369aZmzZpmwIABBfEWLSE6OtrMnj3b7Nmzx+zYscN069bNVK5c2Zw7d85ehmNZPCxdutR888035sCBA2b//v3mb3/7myldurTZs2ePMYbjWBz9+OOPpmrVqqZRo0bmiSeesC/nWFoLARBF1tUBMDMz04SFhZk33njDviwpKcl4enqa+fPn25+XLl3aLFiwwF5m3759RpKJi4szxhizd+9eI8ls3brVXmb58uXGZrOZ48ePu/hdWdOpU6eMJLNu3TpjDMeyuCtXrpz517/+xXEshs6ePWtq1aplVq9ebdq3b28PgBxL6+EUMIqN+Ph4JSQkKCoqyr7M399frVq1UlxcnCRp+/btunTpkkOZunXrqnLlyvYycXFxCggIUIsWLexloqKi5Obmpi1bthTQu7GW5ORkSVJgYKAkjmVxlZGRoc8++0ypqamKiIjgOBZDI0aM0D333ONwPCR+J62IewGj2EhISJAkhYaGOiwPDQ21r0tISJCHh4cCAgKuWSYkJMRhvbu7uwIDA+1l4DyZmZkaM2aMIiMj1aBBA0kcy+Jm9+7dioiIUFpamnx9fbV48WLVr19fmzZtksRxLC4+++wz/fe//9XWrVtzrON30noIgABcasSIEdqzZ482bNhQ2E3BLapTp4527Nih5ORkLVy4UDExMVq3bl1hNws34dixY3riiSe0evVqeXl5FXZzUARwChjFRlhYmCTluOIsMTHRvi4sLEwXL15UUlLSNcucOnXKYf3ly5d15swZexk4x8iRI/X1119r7dq1qlixon05x7J48fDwUM2aNdW8eXNNmTJFjRs31ttvv81xLEa2b9+uU6dOqVmzZnJ3d5e7u7vWrVund955R+7u7vaeP46ldRAAUWxUq1ZNYWFhio2NtS9LSUnRli1bFBERIUlq3ry5Spcu7VBm//79Onr0qL1MRESEkpKStH37dnuZNWvWKDMzU61atSqgd1OyGWM0cuRILV68WGvWrFG1atUc1nMsi7fMzEylp6dzHIuRTp06affu3dqxY4f90aJFCw0cOFA7duxQ9erVOZZWU9hXoQBXOnv2rPnpp5/MTz/9ZCSZt956y/z000/myJEjxpisaQoCAgLMV199ZXbt2mV69uyZ6zQFlStXNmvWrDHbtm0zERERJiIiwqGeLl26mKZNm5otW7aYDRs2mFq1ajFNgRM9/vjjxt/f33z//ffm5MmT9sf58+ftZTiWxcOzzz5r1q1bZ+Lj482uXbvMs88+a2w2m1m1apUxhuNYnF15FbAxHEurIQCiSFm7dq2RlOMRExNjjMmaquD55583oaGhxtPT03Tq1Mns37/fYRsXLlwww4cPN+XKlTPe3t6md+/e5uTJkw5lTp8+bQYMGGB8fX2Nn5+fGTJkiDl79mxBvc0SL7djKMnMnj3bXoZjWTwMHTrUVKlSxXh4eJjg4GDTqVMne/gzhuNYnF0dADmW1mIzxpjC6XsEAABAYWAMIAAAgMUQAAEAACyGAAgAAGAxBEAAAACLIQACAABYDAEQAADAYgiAAAAAFkMABAAAsBgCIADcgKpVq2r69OmF3YzrmjRpkpo0aVLYzQBQxBEAAaAEGT9+vGJjYwu7GQCKOPfCbgAAwHl8fX3l6+tb2M0AUMTRAwigRPvggw8UHh6uzMxMh+U9e/bU0KFDJUmHDh1Sz549FRoaKl9fX91xxx367rvv8tzm4cOHZbPZtGPHDvuypKQk2Ww2ff/99/Zle/bsUdeuXeXr66vQ0FANGjRIf/zxR57bPX36tAYMGKDbbrtN3t7eatiwoebPn29f//vvvyssLEyvvvqqfdmmTZvk4eFh7/W7+hTw999/r5YtW8rHx0cBAQGKjIzUkSNHrrnPAJR8BEAAJVq/fv10+vRprV271r7szJkzWrFihQYOHChJOnfunLp166bY2Fj99NNP6tKli7p3766jR4/ecr1JSUnq2LGjmjZtqm3btmnFihVKTEzU/fffn+dr0tLS1Lx5c33zzTfas2ePhg0bpkGDBunHH3+UJAUHB+ujjz7SpEmTtG3bNp09e1aDBg3SyJEj1alTpxzbu3z5snr16qX27dtr165diouL07Bhw2Sz2W75fQEoGTgFDKBEK1eunLp27apPP/3UHpIWLlyo8uXLq0OHDpKkxo0bq3HjxvbXvPTSS1q8eLGWLl2qkSNH3lK97733npo2berQW/fRRx+pUqVKOnDggGrXrp3jNbfddpvGjx9vfz5q1CitXLlSX3zxhVq2bClJ6tatmx555BENHDhQLVq0kI+Pj6ZMmZJrG1JSUpScnKx7771XNWrUkCTVq1fvlt4PgJKFHkAAJd7AgQO1aNEipaenS5I++eQT9e/fX25uWV+B586d0/jx41WvXj0FBATI19dX+/bty1cP4M6dO7V27Vr7mDxfX1/VrVtXUtYp59xkZGTopZdeUsOGDRUYGChfX1+tXLkyRzvefPNNXb58WQsWLNAnn3wiT0/PXLcXGBiowYMHKzo6Wt27d9fbb7+tkydP3vJ7AlByEAABlHjdu3eXMUbffPONjh07pvXr19tP/0pZV84uXrxYr776qtavX68dO3aoYcOGunjxYq7byw6Oxhj7skuXLjmUOXfunLp3764dO3Y4PA4ePKg777wz1+2+8cYbevvtt/XMM89o7dq12rFjh6Kjo3O049ChQzpx4oQyMzN1+PDha7732bNnKy4uTm3atNHnn3+u2rVra/Pmzdd8DYCSj1PAAEo8Ly8v9enTR5988ol++eUX1alTR82aNbOv37hxowYPHqzevXtLygpv1wpWwcHBkqSTJ0+qadOmkuRwQYgkNWvWTIsWLVLVqlXl7n5jX7UbN25Uz5499de//lWSlJmZqQMHDqh+/fr2MhcvXtRf//pX/eUvf1GdOnX08MMPa/fu3QoJCclzu02bNlXTpk01YcIERURE6NNPP1Xr1q1vqE0ASiZ6AAFYwsCBA/XNN9/oo48+cuj9k6RatWrpyy+/1I4dO7Rz50498MADOa4avlKZMmXUunVrvfbaa9q3b5/WrVunv//97w5lRowYoTNnzmjAgAHaunWrDh06pJUrV2rIkCHKyMjIdbu1atXS6tWrtWnTJu3bt0+PPvqoEhMTHco899xzSk5O1jvvvKNnnnlGtWvXtl/NfLX4+HhNmDBBcXFxOnLkiFatWqWDBw8yDhAAARCANXTs2FGBgYHav3+/HnjgAYd1b731lsqVK6c2bdqoe/fuio6OdughzM1HH32ky5cvq3nz5hozZoxefvllh/Xh4eHauHGjMjIy1LlzZzVs2FBjxoxRQECA/RTy1f7+97+rWbNmio6O1l133aWwsDD16tXLvv7777/X9OnT9fHHH8vPz09ubm76+OOPtX79es2cOTPH9ry9vfXzzz+rb9++ql27toYNG6YRI0bo0UcfvcG9BqCkspkrB7EAAACgxKMHEAAAwGIIgAAAABZDAAQAALAYAiAAAIDFEAABAAAshgAIAABgMQRAAAAAiyEAAgAAWAwBEAAAwGIIgAAAABZDAAQAALAYAiAAAIDFEAABAAAshgAIAABgMQRAAAAAiyEAAgAAWAwBEAAAwGL+Hx3RI9aGUqY4AAAAAElFTkSuQmCC' width=640.0/>\n            </div>\n        ",
            "application/vnd.jupyter.widget-view+json": {
              "version_major": 2,
              "version_minor": 0,
              "model_id": "7b9fd10fbf5a40099ab9e10e9be8cef3"
            }
          },
          "metadata": {}
        }
      ]
    },
    {
      "cell_type": "code",
      "source": "m.multifit(iterpath=\"serpentine\")",
      "metadata": {
        "trusted": true
      },
      "execution_count": 53,
      "outputs": [
        {
          "name": "stderr",
          "text": "Exception ignored in: <function tqdm.__del__ at 0x9899590>\nTraceback (most recent call last):\n  File \"/lib/python3.11/site-packages/tqdm/std.py\", line 1149, in __del__\n    self.close()\n  File \"/lib/python3.11/site-packages/tqdm/notebook.py\", line 278, in close\n    self.disp(bar_style='danger', check_delay=False)\n    ^^^^^^^^^\nAttributeError: 'tqdm_notebook' object has no attribute 'disp'\n100%|██████████| 1024/1024 [00:06<00:00, 159.93it/s]\n",
          "output_type": "stream"
        }
      ]
    },
    {
      "cell_type": "code",
      "source": "m.plot()",
      "metadata": {
        "trusted": true
      },
      "execution_count": 54,
      "outputs": [
        {
          "output_type": "display_data",
          "data": {
            "text/plain": "HBox(children=(Canvas(toolbar=Toolbar(toolitems=[('Home', 'Reset original view', 'home', 'home'), ('Back', 'Ba…",
            "application/vnd.jupyter.widget-view+json": {
              "version_major": 2,
              "version_minor": 0,
              "model_id": "192cfa48a7dc4819aa4f3e61b1bf3a24"
            }
          },
          "metadata": {}
        }
      ]
    },
    {
      "cell_type": "code",
      "source": "",
      "metadata": {},
      "execution_count": null,
      "outputs": []
    }
  ]
}